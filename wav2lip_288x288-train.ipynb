{
 "cells": [
  {
   "cell_type": "markdown",
   "id": "6d9f408c",
   "metadata": {
    "papermill": {
     "duration": 0.040765,
     "end_time": "2021-08-02T15:03:04.783507",
     "exception": false,
     "start_time": "2021-08-02T15:03:04.742742",
     "status": "completed"
    },
    "tags": []
   },
   "source": [
    "### 之前代码有问题，以最新版为准"
   ]
  },
  {
   "cell_type": "markdown",
   "id": "d00e6943",
   "metadata": {
    "papermill": {
     "duration": 0.039069,
     "end_time": "2021-08-02T15:03:04.861534",
     "exception": false,
     "start_time": "2021-08-02T15:03:04.822465",
     "status": "completed"
    },
    "tags": []
   },
   "source": [
    "# 任务\n",
    "\n",
    "本次实践涉及到对Wav2Lip模型的，以及相关代码实现。总体上分为以下几个部分：\n",
    "1. 环境的配置\n",
    "2. 数据集准备及预处理\n",
    "3. 模型的训练\n",
    "4. 模型的推理"
   ]
  },
  {
   "cell_type": "markdown",
   "id": "59a35e39",
   "metadata": {
    "papermill": {
     "duration": 0.03953,
     "end_time": "2021-08-02T15:03:04.941630",
     "exception": false,
     "start_time": "2021-08-02T15:03:04.902100",
     "status": "completed"
    },
    "tags": []
   },
   "source": [
    "## Wav2Lip\n",
    "**[Wav2Lip](https://arxiv.org/pdf/2008.10010.pdf)** 是一种基于对抗生成网络的由语音驱动的人脸说话视频生成模型。如下图所示，Wav2Lip的网络模型总体上分成三块：生成器、判别器和一个预训练好的Lip-Sync Expert组成。网络的输入有2个：任意的一段视频和一段语音，输出为一段唇音同步的视频。生成器是基于encoder-decoder的网络结构，分别利用2个encoder: speech encoder, identity encoder去对输入的语音和视频人脸进行编码，并将二者的编码结果进行拼接，送入到 face decoder 中进行解码得到输出的视频帧。判别器Visual Quality Discriminator对生成结果的质量进行规范，提高生成视频的清晰度。为了更好的保证生成结果的唇音同步性，Wav2Lip引入了一个预预训练的唇音同步判别模型 Pre-trained Lip-sync Expert，作为衡量生成结果的唇音同步性的额外损失。"
   ]
  },
  {
   "cell_type": "markdown",
   "id": "c34513e2",
   "metadata": {
    "papermill": {
     "duration": 0.037914,
     "end_time": "2021-08-02T15:03:05.018513",
     "exception": false,
     "start_time": "2021-08-02T15:03:04.980599",
     "status": "completed"
    },
    "tags": []
   },
   "source": [
    "### Lip-Sync Expert\n",
    "Lip-sync Expert基于 **[SyncNet](https://www.robots.ox.ac.uk/~vgg/publications/2016/Chung16a/)**，是一种用来判别语音和视频是否同步的网络模型。如下图所示，SyncNet的输入也是两种：语音特征MFCC和嘴唇的视频帧，利用两个基于卷积神经网络的Encoder分别对输入的语音和视频帧进行降纬和特征提取，将二者的特征都映射到同一个纬度空间中去，最后利用contrastive loss对唇音同步性进行衡量，结果的值越大代表越不同步，结果值越小则代表越同步。在Wav2Lip模型中，进一步改进了SyncNet的网络结构：网络更深；加入了残差网络结构；输入的语音特征被替换成了mel-spectrogram特征。"
   ]
  },
  {
   "cell_type": "markdown",
   "id": "3461cfed",
   "metadata": {
    "papermill": {
     "duration": 0.07419,
     "end_time": "2021-08-02T15:03:05.158517",
     "exception": false,
     "start_time": "2021-08-02T15:03:05.084327",
     "status": "completed"
    },
    "tags": []
   },
   "source": [
    "## 1. 环境的配置\n",
    "- `建议准备一台有显卡的linux系统电脑，或者可以选择使用第三方云服务器（Google Colab）` \n",
    "- `Python 3.6 或者更高版本` \n",
    "- ffmpeg: `sudo apt-get install ffmpeg`\n",
    "- 必要的python包的安装，所需要的库名称都已经包含在`requirements.txt`文件中，可以使用 `pip install -r requirements.txt`一次性安装. \n",
    "- 在本实验中利用到了人脸检测的相关技术，需要下载人脸检测预训练模型：Face detection [pre-trained model](https://www.adrianbulat.com/downloads/python-fan/s3fd-619a316812.pth) 并移动到 `face_detection/detection/sfd/s3fd.pth`文件夹下. "
   ]
  },
  {
   "cell_type": "code",
   "execution_count": 1,
   "id": "fb1514d8",
   "metadata": {
    "papermill": {
     "duration": 0.081877,
     "end_time": "2021-08-02T15:03:05.314858",
     "exception": false,
     "start_time": "2021-08-02T15:03:05.232981",
     "status": "completed"
    },
    "scrolled": true,
    "tags": []
   },
   "outputs": [
    {
     "name": "stdout",
     "output_type": "stream",
     "text": [
      "Looking in indexes: https://pypi.org/simple, https://pip.repos.neuron.amazonaws.com\n",
      "Collecting librosa>=0.7.0 (from -r requirements.txt (line 1))\n",
      "  Downloading librosa-0.10.0.post2-py3-none-any.whl (253 kB)\n",
      "\u001b[2K     \u001b[90m━━━━━━━━━━━━━━━━━━━━━━━━━━━━━━━━━━━━━━\u001b[0m \u001b[32m253.0/253.0 kB\u001b[0m \u001b[31m13.5 MB/s\u001b[0m eta \u001b[36m0:00:00\u001b[0m\n",
      "\u001b[?25hRequirement already satisfied: numpy>=1.17.1 in /home/ec2-user/anaconda3/envs/pytorch_p310/lib/python3.10/site-packages (from -r requirements.txt (line 2)) (1.24.3)\n",
      "Collecting opencv-contrib-python>=4.2.0.34 (from -r requirements.txt (line 3))\n",
      "  Downloading opencv_contrib_python-4.8.0.74-cp37-abi3-manylinux_2_17_x86_64.manylinux2014_x86_64.whl (67.8 MB)\n",
      "\u001b[2K     \u001b[90m━━━━━━━━━━━━━━━━━━━━━━━━━━━━━━━━━━━━━━━━\u001b[0m \u001b[32m67.8/67.8 MB\u001b[0m \u001b[31m28.5 MB/s\u001b[0m eta \u001b[36m0:00:00\u001b[0m00:01\u001b[0m00:01\u001b[0m\n",
      "\u001b[?25hRequirement already satisfied: opencv-python>=4.1.0.25 in /home/ec2-user/anaconda3/envs/pytorch_p310/lib/python3.10/site-packages (from -r requirements.txt (line 4)) (4.6.0.66)\n",
      "Requirement already satisfied: torch>=1.1.0 in /home/ec2-user/anaconda3/envs/pytorch_p310/lib/python3.10/site-packages (from -r requirements.txt (line 5)) (2.0.1)\n",
      "Requirement already satisfied: torchvision>=0.3.0 in /home/ec2-user/anaconda3/envs/pytorch_p310/lib/python3.10/site-packages (from -r requirements.txt (line 6)) (0.15.2)\n",
      "Requirement already satisfied: tqdm>=4.45.0 in /home/ec2-user/anaconda3/envs/pytorch_p310/lib/python3.10/site-packages (from -r requirements.txt (line 7)) (4.65.0)\n",
      "Requirement already satisfied: numba>=0.48 in /home/ec2-user/anaconda3/envs/pytorch_p310/lib/python3.10/site-packages (from -r requirements.txt (line 8)) (0.57.0)\n",
      "Collecting audioread>=2.1.9 (from librosa>=0.7.0->-r requirements.txt (line 1))\n",
      "  Downloading audioread-3.0.0.tar.gz (377 kB)\n",
      "\u001b[2K     \u001b[90m━━━━━━━━━━━━━━━━━━━━━━━━━━━━━━━━━━━━━━\u001b[0m \u001b[32m377.0/377.0 kB\u001b[0m \u001b[31m56.9 MB/s\u001b[0m eta \u001b[36m0:00:00\u001b[0m\n",
      "\u001b[?25h  Preparing metadata (setup.py) ... \u001b[?25ldone\n",
      "\u001b[?25hRequirement already satisfied: scipy>=1.2.0 in /home/ec2-user/anaconda3/envs/pytorch_p310/lib/python3.10/site-packages (from librosa>=0.7.0->-r requirements.txt (line 1)) (1.10.1)\n",
      "Requirement already satisfied: scikit-learn>=0.20.0 in /home/ec2-user/anaconda3/envs/pytorch_p310/lib/python3.10/site-packages (from librosa>=0.7.0->-r requirements.txt (line 1)) (1.2.2)\n",
      "Requirement already satisfied: joblib>=0.14 in /home/ec2-user/anaconda3/envs/pytorch_p310/lib/python3.10/site-packages (from librosa>=0.7.0->-r requirements.txt (line 1)) (1.2.0)\n",
      "Requirement already satisfied: decorator>=4.3.0 in /home/ec2-user/anaconda3/envs/pytorch_p310/lib/python3.10/site-packages (from librosa>=0.7.0->-r requirements.txt (line 1)) (5.1.1)\n",
      "Collecting soundfile>=0.12.1 (from librosa>=0.7.0->-r requirements.txt (line 1))\n",
      "  Downloading soundfile-0.12.1-py2.py3-none-manylinux_2_17_x86_64.whl (1.3 MB)\n",
      "\u001b[2K     \u001b[90m━━━━━━━━━━━━━━━━━━━━━━━━━━━━━━━━━━━━━━━━\u001b[0m \u001b[32m1.3/1.3 MB\u001b[0m \u001b[31m89.6 MB/s\u001b[0m eta \u001b[36m0:00:00\u001b[0m\n",
      "\u001b[?25hCollecting pooch<1.7,>=1.0 (from librosa>=0.7.0->-r requirements.txt (line 1))\n",
      "  Downloading pooch-1.6.0-py3-none-any.whl (56 kB)\n",
      "\u001b[2K     \u001b[90m━━━━━━━━━━━━━━━━━━━━━━━━━━━━━━━━━━━━━━━━\u001b[0m \u001b[32m56.3/56.3 kB\u001b[0m \u001b[31m15.3 MB/s\u001b[0m eta \u001b[36m0:00:00\u001b[0m\n",
      "\u001b[?25hCollecting soxr>=0.3.2 (from librosa>=0.7.0->-r requirements.txt (line 1))\n",
      "  Downloading soxr-0.3.5-cp310-cp310-manylinux_2_17_x86_64.manylinux2014_x86_64.whl (1.2 MB)\n",
      "\u001b[2K     \u001b[90m━━━━━━━━━━━━━━━━━━━━━━━━━━━━━━━━━━━━━━━━\u001b[0m \u001b[32m1.2/1.2 MB\u001b[0m \u001b[31m82.0 MB/s\u001b[0m eta \u001b[36m0:00:00\u001b[0m\n",
      "\u001b[?25hRequirement already satisfied: typing-extensions>=4.1.1 in /home/ec2-user/anaconda3/envs/pytorch_p310/lib/python3.10/site-packages (from librosa>=0.7.0->-r requirements.txt (line 1)) (4.5.0)\n",
      "Requirement already satisfied: lazy-loader>=0.1 in /home/ec2-user/anaconda3/envs/pytorch_p310/lib/python3.10/site-packages (from librosa>=0.7.0->-r requirements.txt (line 1)) (0.3)\n",
      "Collecting msgpack>=1.0 (from librosa>=0.7.0->-r requirements.txt (line 1))\n",
      "  Downloading msgpack-1.0.5-cp310-cp310-manylinux_2_17_x86_64.manylinux2014_x86_64.whl (316 kB)\n",
      "\u001b[2K     \u001b[90m━━━━━━━━━━━━━━━━━━━━━━━━━━━━━━━━━━━━━━\u001b[0m \u001b[32m316.8/316.8 kB\u001b[0m \u001b[31m41.9 MB/s\u001b[0m eta \u001b[36m0:00:00\u001b[0m\n",
      "\u001b[?25hRequirement already satisfied: filelock in /home/ec2-user/anaconda3/envs/pytorch_p310/lib/python3.10/site-packages (from torch>=1.1.0->-r requirements.txt (line 5)) (3.12.0)\n",
      "Requirement already satisfied: sympy in /home/ec2-user/anaconda3/envs/pytorch_p310/lib/python3.10/site-packages (from torch>=1.1.0->-r requirements.txt (line 5)) (1.11.1)\n",
      "Requirement already satisfied: networkx in /home/ec2-user/anaconda3/envs/pytorch_p310/lib/python3.10/site-packages (from torch>=1.1.0->-r requirements.txt (line 5)) (3.1)\n",
      "Requirement already satisfied: jinja2 in /home/ec2-user/anaconda3/envs/pytorch_p310/lib/python3.10/site-packages (from torch>=1.1.0->-r requirements.txt (line 5)) (3.1.2)\n",
      "Requirement already satisfied: nvidia-cuda-nvrtc-cu11==11.7.99 in /home/ec2-user/anaconda3/envs/pytorch_p310/lib/python3.10/site-packages (from torch>=1.1.0->-r requirements.txt (line 5)) (11.7.99)\n",
      "Requirement already satisfied: nvidia-cuda-runtime-cu11==11.7.99 in /home/ec2-user/anaconda3/envs/pytorch_p310/lib/python3.10/site-packages (from torch>=1.1.0->-r requirements.txt (line 5)) (11.7.99)\n",
      "Requirement already satisfied: nvidia-cuda-cupti-cu11==11.7.101 in /home/ec2-user/anaconda3/envs/pytorch_p310/lib/python3.10/site-packages (from torch>=1.1.0->-r requirements.txt (line 5)) (11.7.101)\n",
      "Requirement already satisfied: nvidia-cudnn-cu11==8.5.0.96 in /home/ec2-user/anaconda3/envs/pytorch_p310/lib/python3.10/site-packages (from torch>=1.1.0->-r requirements.txt (line 5)) (8.5.0.96)\n",
      "Requirement already satisfied: nvidia-cublas-cu11==11.10.3.66 in /home/ec2-user/anaconda3/envs/pytorch_p310/lib/python3.10/site-packages (from torch>=1.1.0->-r requirements.txt (line 5)) (11.10.3.66)\n",
      "Requirement already satisfied: nvidia-cufft-cu11==10.9.0.58 in /home/ec2-user/anaconda3/envs/pytorch_p310/lib/python3.10/site-packages (from torch>=1.1.0->-r requirements.txt (line 5)) (10.9.0.58)\n",
      "Requirement already satisfied: nvidia-curand-cu11==10.2.10.91 in /home/ec2-user/anaconda3/envs/pytorch_p310/lib/python3.10/site-packages (from torch>=1.1.0->-r requirements.txt (line 5)) (10.2.10.91)\n",
      "Requirement already satisfied: nvidia-cusolver-cu11==11.4.0.1 in /home/ec2-user/anaconda3/envs/pytorch_p310/lib/python3.10/site-packages (from torch>=1.1.0->-r requirements.txt (line 5)) (11.4.0.1)\n",
      "Requirement already satisfied: nvidia-cusparse-cu11==11.7.4.91 in /home/ec2-user/anaconda3/envs/pytorch_p310/lib/python3.10/site-packages (from torch>=1.1.0->-r requirements.txt (line 5)) (11.7.4.91)\n",
      "Requirement already satisfied: nvidia-nccl-cu11==2.14.3 in /home/ec2-user/anaconda3/envs/pytorch_p310/lib/python3.10/site-packages (from torch>=1.1.0->-r requirements.txt (line 5)) (2.14.3)\n",
      "Requirement already satisfied: nvidia-nvtx-cu11==11.7.91 in /home/ec2-user/anaconda3/envs/pytorch_p310/lib/python3.10/site-packages (from torch>=1.1.0->-r requirements.txt (line 5)) (11.7.91)\n",
      "Requirement already satisfied: triton==2.0.0 in /home/ec2-user/anaconda3/envs/pytorch_p310/lib/python3.10/site-packages (from torch>=1.1.0->-r requirements.txt (line 5)) (2.0.0)\n",
      "Requirement already satisfied: setuptools in /home/ec2-user/anaconda3/envs/pytorch_p310/lib/python3.10/site-packages (from nvidia-cublas-cu11==11.10.3.66->torch>=1.1.0->-r requirements.txt (line 5)) (67.7.2)\n",
      "Requirement already satisfied: wheel in /home/ec2-user/anaconda3/envs/pytorch_p310/lib/python3.10/site-packages (from nvidia-cublas-cu11==11.10.3.66->torch>=1.1.0->-r requirements.txt (line 5)) (0.40.0)\n",
      "Requirement already satisfied: cmake in /home/ec2-user/anaconda3/envs/pytorch_p310/lib/python3.10/site-packages (from triton==2.0.0->torch>=1.1.0->-r requirements.txt (line 5)) (3.27.0)\n",
      "Requirement already satisfied: lit in /home/ec2-user/anaconda3/envs/pytorch_p310/lib/python3.10/site-packages (from triton==2.0.0->torch>=1.1.0->-r requirements.txt (line 5)) (16.0.6)\n",
      "Requirement already satisfied: requests in /home/ec2-user/anaconda3/envs/pytorch_p310/lib/python3.10/site-packages (from torchvision>=0.3.0->-r requirements.txt (line 6)) (2.29.0)\n",
      "Requirement already satisfied: pillow!=8.3.*,>=5.3.0 in /home/ec2-user/anaconda3/envs/pytorch_p310/lib/python3.10/site-packages (from torchvision>=0.3.0->-r requirements.txt (line 6)) (9.5.0)\n",
      "Requirement already satisfied: llvmlite<0.41,>=0.40.0dev0 in /home/ec2-user/anaconda3/envs/pytorch_p310/lib/python3.10/site-packages (from numba>=0.48->-r requirements.txt (line 8)) (0.40.0)\n",
      "Collecting appdirs>=1.3.0 (from pooch<1.7,>=1.0->librosa>=0.7.0->-r requirements.txt (line 1))\n",
      "  Downloading appdirs-1.4.4-py2.py3-none-any.whl (9.6 kB)\n",
      "Requirement already satisfied: packaging>=20.0 in /home/ec2-user/anaconda3/envs/pytorch_p310/lib/python3.10/site-packages (from pooch<1.7,>=1.0->librosa>=0.7.0->-r requirements.txt (line 1)) (21.3)\n",
      "Requirement already satisfied: charset-normalizer<4,>=2 in /home/ec2-user/anaconda3/envs/pytorch_p310/lib/python3.10/site-packages (from requests->torchvision>=0.3.0->-r requirements.txt (line 6)) (3.1.0)\n",
      "Requirement already satisfied: idna<4,>=2.5 in /home/ec2-user/anaconda3/envs/pytorch_p310/lib/python3.10/site-packages (from requests->torchvision>=0.3.0->-r requirements.txt (line 6)) (3.4)\n",
      "Requirement already satisfied: urllib3<1.27,>=1.21.1 in /home/ec2-user/anaconda3/envs/pytorch_p310/lib/python3.10/site-packages (from requests->torchvision>=0.3.0->-r requirements.txt (line 6)) (1.26.14)\n",
      "Requirement already satisfied: certifi>=2017.4.17 in /home/ec2-user/anaconda3/envs/pytorch_p310/lib/python3.10/site-packages (from requests->torchvision>=0.3.0->-r requirements.txt (line 6)) (2023.5.7)\n",
      "Requirement already satisfied: threadpoolctl>=2.0.0 in /home/ec2-user/anaconda3/envs/pytorch_p310/lib/python3.10/site-packages (from scikit-learn>=0.20.0->librosa>=0.7.0->-r requirements.txt (line 1)) (3.1.0)\n",
      "Requirement already satisfied: cffi>=1.0 in /home/ec2-user/anaconda3/envs/pytorch_p310/lib/python3.10/site-packages (from soundfile>=0.12.1->librosa>=0.7.0->-r requirements.txt (line 1)) (1.15.1)\n",
      "Requirement already satisfied: MarkupSafe>=2.0 in /home/ec2-user/anaconda3/envs/pytorch_p310/lib/python3.10/site-packages (from jinja2->torch>=1.1.0->-r requirements.txt (line 5)) (2.1.2)\n",
      "Requirement already satisfied: mpmath>=0.19 in /home/ec2-user/anaconda3/envs/pytorch_p310/lib/python3.10/site-packages (from sympy->torch>=1.1.0->-r requirements.txt (line 5)) (1.3.0)\n",
      "Requirement already satisfied: pycparser in /home/ec2-user/anaconda3/envs/pytorch_p310/lib/python3.10/site-packages (from cffi>=1.0->soundfile>=0.12.1->librosa>=0.7.0->-r requirements.txt (line 1)) (2.21)\n",
      "Requirement already satisfied: pyparsing!=3.0.5,>=2.0.2 in /home/ec2-user/anaconda3/envs/pytorch_p310/lib/python3.10/site-packages (from packaging>=20.0->pooch<1.7,>=1.0->librosa>=0.7.0->-r requirements.txt (line 1)) (3.0.9)\n",
      "Building wheels for collected packages: audioread\n",
      "  Building wheel for audioread (setup.py) ... \u001b[?25ldone\n",
      "\u001b[?25h  Created wheel for audioread: filename=audioread-3.0.0-py3-none-any.whl size=23706 sha256=81c55b6a5e9814e2e92a1b48843e19968ce5b1dab32082a558541ce56abb905f\n",
      "  Stored in directory: /home/ec2-user/.cache/pip/wheels/da/4b/39/c5f6c4ee93b43281dda4dab5ac5f2bdf9d11074d427493cd55\n",
      "Successfully built audioread\n",
      "Installing collected packages: msgpack, appdirs, soxr, opencv-contrib-python, audioread, soundfile, pooch, librosa\n",
      "  Attempting uninstall: pooch\n",
      "    Found existing installation: pooch 1.7.0\n",
      "    Uninstalling pooch-1.7.0:\n",
      "      Successfully uninstalled pooch-1.7.0\n",
      "Successfully installed appdirs-1.4.4 audioread-3.0.0 librosa-0.10.0.post2 msgpack-1.0.5 opencv-contrib-python-4.8.0.74 pooch-1.6.0 soundfile-0.12.1 soxr-0.3.5\n"
     ]
    }
   ],
   "source": [
    "!pip install -r requirements.txt"
   ]
  },
  {
   "cell_type": "markdown",
   "id": "cc1c15ff",
   "metadata": {
    "papermill": {
     "duration": 0.065854,
     "end_time": "2021-08-02T15:03:05.446911",
     "exception": false,
     "start_time": "2021-08-02T15:03:05.381057",
     "status": "completed"
    },
    "tags": []
   },
   "source": [
    "## 2. 数据集的准备及预处理\n",
    "\n",
    "**LRS2 数据集的下载**  \n",
    "实验所需要的数据集下载地址为：<a href=\"http://www.robots.ox.ac.uk/~vgg/data/lip_reading/lrs2.html\">LRS2 dataset</a>，下载该数据集需要获得BBC的许可，需要发送申请邮件以获取下载密钥，具体操作详见网页中的指示。下载完成后对数据集进行解压到本目录的`mvlrs_v1/`文件夹下，并将LRS2中的文件列表文件`train.txt, val.txt, test.txt` 移动到`filelists/`文件夹下，最终得到的数据集目录结构如下所示。\n",
    "```\n",
    "data_root (mvlrs_v1)\n",
    "├── main, pretrain (我们只使用main文件夹下的数据)\n",
    "|\t├── 文件夹列表\n",
    "|\t│   ├── 5位以.mp4结尾的视频ID\n",
    "```\n",
    "**数据集预处理**\n",
    "数据集中大多数视频都是包含人的半身或者全身的画面，而我们的模型只需要人脸这一小部分。所以在预处理阶段，我们要对每一个视频进行分帧操作，提取视频的每一帧，之后使用`face detection`工具包对人脸位置进行定位并裁减，只保留人脸的图片帧。同时，我们也需要将每一个视频中的语音分离出来。"
   ]
  },
  {
   "cell_type": "code",
   "execution_count": 2,
   "id": "931aaa3d-6eab-44f9-9cc0-d6e17fe80c26",
   "metadata": {
    "tags": []
   },
   "outputs": [
    {
     "name": "stdout",
     "output_type": "stream",
     "text": [
      "--2023-07-31 01:37:25--  https://www.adrianbulat.com/downloads/python-fan/s3fd-619a316812.pth\n",
      "Resolving www.adrianbulat.com (www.adrianbulat.com)... 45.136.29.207\n",
      "Connecting to www.adrianbulat.com (www.adrianbulat.com)|45.136.29.207|:443... connected.\n",
      "HTTP request sent, awaiting response... 200 OK\n",
      "Length: 89843225 (86M) [application/octet-stream]\n",
      "Saving to: ‘face_detection/detection/sfd/s3fd.pth’\n",
      "\n",
      "100%[======================================>] 89,843,225  21.9MB/s   in 4.5s   \n",
      "\n",
      "2023-07-31 01:37:31 (19.1 MB/s) - ‘face_detection/detection/sfd/s3fd.pth’ saved [89843225/89843225]\n",
      "\n"
     ]
    }
   ],
   "source": [
    "# !wget \"https://www.adrianbulat.com/downloads/python-fan/s3fd-619a316812.pth\" -O face_detection/detection/sfd/s3fd.pth"
   ]
  },
  {
   "cell_type": "code",
   "execution_count": 2,
   "id": "73bccdb9-1b21-48d4-a983-6f2add90b315",
   "metadata": {
    "tags": []
   },
   "outputs": [],
   "source": [
    "!rm -rf ../LSR2/demo\n",
    "!mkdir -p ../LSR2/demo\n",
    "!cp -r ../LSR2/main/553* ../LSR2/demo/"
   ]
  },
  {
   "cell_type": "code",
   "execution_count": 3,
   "id": "b53dcfde",
   "metadata": {
    "papermill": {
     "duration": 0.076313,
     "end_time": "2021-08-02T15:03:05.590493",
     "exception": false,
     "start_time": "2021-08-02T15:03:05.514180",
     "status": "completed"
    },
    "tags": []
   },
   "outputs": [
    {
     "name": "stdout",
     "output_type": "stream",
     "text": [
      "^C\n",
      "Started processing for ../LSR2/demo with 1 GPUs\n",
      "100%|█████████████████████████████████████████| 432/432 [10:17<00:00,  1.43s/it]\n",
      "Dumping audios...\n",
      "100%|█████████████████████████████████████████| 432/432 [00:15<00:00, 28.79it/s]\n"
     ]
    }
   ],
   "source": [
    "# !rm -rf ../LSR2/lrs2_preprocessed_288x288\n",
    "# !python preprocess.py --data_root \"../LSR2/main\" --preprocessed_root \"../LSR2/lrs2_preprocessed_288x288\" --batch_size 128\n",
    "!rm -rf ../LSR2/lrs2_preprocessed_288x288-demo\n",
    "!python preprocess.py --data_root \"../LSR2/demo\" --preprocessed_root \"../LSR2/lrs2_preprocessed_288x288-demo\" --batch_size 128"
   ]
  },
  {
   "cell_type": "markdown",
   "id": "27e70f29",
   "metadata": {
    "papermill": {
     "duration": 0.057029,
     "end_time": "2021-08-02T15:03:05.717822",
     "exception": false,
     "start_time": "2021-08-02T15:03:05.660793",
     "status": "completed"
    },
    "tags": []
   },
   "source": [
    "预处理后的`lrs2_preprocessed/`文件夹下的目录结构如下\n",
    "```\n",
    "preprocessed_root (lrs2_preprocessed)\n",
    "├── 文件夹列表\n",
    "|\t├── 五位的视频ID\n",
    "|\t│   ├── *.jpg\n",
    "|\t│   ├── audio.wav\n",
    "```"
   ]
  },
  {
   "cell_type": "code",
   "execution_count": 2,
   "id": "a2a91f05-71fd-47f1-9488-df60a5653f0e",
   "metadata": {
    "scrolled": true,
    "tags": []
   },
   "outputs": [],
   "source": [
    "import os\n",
    "from tqdm import tqdm\n",
    "\n",
    "codeformer_cmd = 'cd ../CodeFormer && python inference_codeformer.py --bg_upsampler realesrgan --face_upsample -w 1.0 --input_path {} --output_path {}'\n",
    "preprocessed_root = \"../LSR2/lrs2_preprocessed_288x288-demo\"\n",
    "sub_dirs = os.listdir(preprocessed_root)\n",
    "for sub_dir in tqdm(sub_dirs):\n",
    "    video_dirs = os.listdir(os.path.join(preprocessed_root, sub_dir))\n",
    "    for video_dir in video_dirs:\n",
    "        video_dir = os.path.join(preprocessed_root, sub_dir, video_dir)\n",
    "        # print(video_dir)\n",
    "        # print(codeformer_cmd.format(video_dir, video_dir))\n",
    "        os.system(codeformer_cmd.format(video_dir, video_dir))"
   ]
  },
  {
   "cell_type": "markdown",
   "id": "2ff5bb63-382e-4670-bd8e-aa6d7702c34d",
   "metadata": {},
   "source": [
    "获取对应的文件列表并更新到filelists/train.txt和filelists/eval.txt。只保存对应的视频名称即可。代码可以参考，对视频样本重命名并生成对应的命名列表，此处视频文件数量过少<2，会报错："
   ]
  },
  {
   "cell_type": "code",
   "execution_count": 8,
   "id": "3c52dd89-d180-4fac-900b-219cd4147b98",
   "metadata": {
    "scrolled": true,
    "tags": []
   },
   "outputs": [
    {
     "name": "stdout",
     "output_type": "stream",
     "text": [
      "['5535864093654496929', '5538635636050605931', '5537751731781090844', '5537369050195015499', '5537514649586349811', '5539474443163516678', '5537522380527482610', '5536266102593401990', '5536915501648559593', '5539826200985059108', '5539535002202392187', '5539702505926936192', '5535423430009926848', '5537693749722594824', '5536968329746298779', '5539741160632598296', '5537885734760724252', '5535496873950688380', '5535415699068794046', '5537893465701857051', '5536760882825901738', '5536745420943636139', '5537143564411975377', '5539444807889172133', '5536038039829982468', '5536876846942893978']\n"
     ]
    }
   ],
   "source": [
    "import time\n",
    "from glob import glob\n",
    "import shutil,os\n",
    " \n",
    "from sklearn.model_selection import train_test_split\n",
    " \n",
    "\n",
    "# 去除名字的特殊符号，统一序号视频文件命名\n",
    " \n",
    "# def original_video_name_format():\n",
    "#     base_path = \"../LSR2/main\"\n",
    "#     result = list(glob(\"{}/*\".format(base_path),recursive=False))\n",
    "#     file_num = 0\n",
    "#     result_list = []\n",
    " \n",
    "#     for each in result:\n",
    "#         file_num +=1\n",
    "#         new_position =\"{0}{1}\".format( int(time.time()),file_num)\n",
    "#         result_list.append(new_position)\n",
    "#         shutil.move(each, os.path.join(base_path,new_position+\".mp4\"))\n",
    "#         pass\n",
    "\n",
    "def trained_data_name_format():\n",
    "    base_path = preprocessed_root\n",
    "    # result = list(glob(\"{}/*\".format(base_path)))\n",
    "    result = os.listdir(base_path)\n",
    "    print(result)\n",
    "    result_list = []\n",
    "    for i,dirpath in enumerate(result):\n",
    "        # shutil.move(dirpath,\"{0}/{1}\".format(base_path,i))\n",
    "        # result_list.append(str(i))\n",
    "        # print('dirpath:', dirpath)\n",
    "        result_list.append(dirpath)\n",
    "    if len(result_list)<14:\n",
    "        test_result=val_result=train_result=result_list\n",
    "    else:\n",
    "        train_result,test_result = train_test_split(result_list,test_size=0.15, random_state=42)\n",
    "        test_result, val_result = train_test_split(test_result, test_size=0.5, random_state=42)\n",
    " \n",
    "    for file_name,dataset in zip((\"train.txt\",\"test.txt\",\"val.txt\"),(train_result,test_result,val_result)):\n",
    "        with open(os.path.join(\"filelists\",file_name),'w',encoding='utf-8') as fi:\n",
    "            for dataset_i in dataset:\n",
    "                # print('dataset_i:', dataset_i)\n",
    "                video_result = os.listdir(os.path.join(base_path, dataset_i))\n",
    "                # print('video_result:', video_result)\n",
    "                video_result = [dataset_i+'/'+video+'/final_results' for video in video_result]\n",
    "                fi.write(\"\\n\".join(video_result))\n",
    "                fi.write(\"\\n\")\n",
    " \n",
    "    # print(\"\\n\".join(result_list))\n",
    "\n",
    "trained_data_name_format()"
   ]
  },
  {
   "cell_type": "markdown",
   "id": "d9f6d2a7-7f3e-40ea-96c4-996aaee42a32",
   "metadata": {},
   "source": [
    "Training the expert discriminator"
   ]
  },
  {
   "cell_type": "code",
   "execution_count": null,
   "id": "adf0bb64-29af-486d-b14e-5eecf0be8c17",
   "metadata": {
    "tags": []
   },
   "outputs": [],
   "source": [
    "!python color_syncnet_train.py --data_root ../LSR2/lrs2_preprocessed_288x288-demo/ --checkpoint_dir ./savedmodel \n",
    "# --checkpoint_path ./checkpoints/lipsync_expert.pth"
   ]
  },
  {
   "cell_type": "markdown",
   "id": "72b3dc53-722f-428e-8305-7b9d42ae082a",
   "metadata": {},
   "source": [
    "执行如下命令，开始训练："
   ]
  },
  {
   "cell_type": "code",
   "execution_count": null,
   "id": "7b989d6e-be14-47fc-9f10-2226f02bc4c6",
   "metadata": {
    "tags": []
   },
   "outputs": [],
   "source": [
    "# !python wav2lip_train.py --data_root ../LSR2/lrs2_preprocessed --checkpoint_dir ./savedmodel --syncnet_checkpoint_path ./checkpoints/lipsync_expert.pth --checkpoint_path ./checkpoints/wav2lip.pth\n"
   ]
  },
  {
   "cell_type": "code",
   "execution_count": null,
   "id": "4764fda7-3c76-45d8-be8f-391ad409a361",
   "metadata": {
    "tags": []
   },
   "outputs": [],
   "source": [
    "# !python hq_wav2lip_train.py --data_root ../LSR2/lrs2_preprocessed --checkpoint_dir ./savedmodel --syncnet_checkpoint_path ./checkpoints/lipsync_expert.pth --checkpoint_path ./checkpoints/wav2lip.pth --disc_checkpoint_path ./checkpoints/visual_quality_disc.pth\n"
   ]
  },
  {
   "cell_type": "code",
   "execution_count": null,
   "id": "1a04656c-3efc-4ddc-a4db-1f328b5cf457",
   "metadata": {},
   "outputs": [],
   "source": [
    "!python wloss_hq_wav2lip_train.py --data_root ../LSR2/lrs2_preprocessed_288x288-demo/ --checkpoint_dir ./savedmodel --syncnet_checkpoint_path ./savedmodel/checkpoint_step000005500.pth \n",
    "# --checkpoint_path ./checkpoints/wav2lip.pth\n"
   ]
  },
  {
   "cell_type": "code",
   "execution_count": 11,
   "id": "06f8d8df-60a8-42e7-8827-b7eabf39cc42",
   "metadata": {
    "scrolled": true,
    "tags": []
   },
   "outputs": [
    {
     "name": "stdout",
     "output_type": "stream",
     "text": [
      "Using cuda for inference.\n",
      "Reading video frames...\n",
      "Number of frames available for inference: 345\n",
      "(80, 936)\n",
      "Length of mel chunks: 349\n",
      "  0%|                                                     | 0/3 [00:00<?, ?it/s]\n",
      "  0%|                                                    | 0/22 [00:00<?, ?it/s]\u001b[A\n",
      "  5%|██                                          | 1/22 [00:15<05:17, 15.14s/it]\u001b[A\n",
      "  9%|████                                        | 2/22 [00:16<02:21,  7.08s/it]\u001b[A\n",
      " 14%|██████                                      | 3/22 [00:17<01:24,  4.44s/it]\u001b[A\n",
      " 18%|████████                                    | 4/22 [00:19<00:57,  3.20s/it]\u001b[A\n",
      " 23%|██████████                                  | 5/22 [00:20<00:42,  2.52s/it]\u001b[A\n",
      " 27%|████████████                                | 6/22 [00:21<00:33,  2.12s/it]\u001b[A\n",
      " 32%|██████████████                              | 7/22 [00:23<00:27,  1.85s/it]\u001b[A\n",
      " 36%|████████████████                            | 8/22 [00:24<00:23,  1.68s/it]\u001b[A\n",
      " 41%|██████████████████                          | 9/22 [00:25<00:20,  1.56s/it]\u001b[A\n",
      " 45%|███████████████████▌                       | 10/22 [00:27<00:17,  1.49s/it]\u001b[A\n",
      " 50%|█████████████████████▌                     | 11/22 [00:28<00:15,  1.42s/it]\u001b[A\n",
      " 55%|███████████████████████▍                   | 12/22 [00:29<00:13,  1.39s/it]\u001b[A\n",
      " 59%|█████████████████████████▍                 | 13/22 [00:31<00:12,  1.39s/it]\u001b[A\n",
      " 64%|███████████████████████████▎               | 14/22 [00:32<00:11,  1.42s/it]\u001b[A\n",
      " 68%|█████████████████████████████▎             | 15/22 [00:33<00:09,  1.41s/it]\u001b[A\n",
      " 73%|███████████████████████████████▎           | 16/22 [00:35<00:08,  1.38s/it]\u001b[A\n",
      " 77%|█████████████████████████████████▏         | 17/22 [00:36<00:06,  1.37s/it]\u001b[A\n",
      " 82%|███████████████████████████████████▏       | 18/22 [00:37<00:05,  1.37s/it]\u001b[A\n",
      " 86%|█████████████████████████████████████▏     | 19/22 [00:39<00:04,  1.36s/it]\u001b[A\n",
      " 91%|███████████████████████████████████████    | 20/22 [00:40<00:02,  1.34s/it]\u001b[A\n",
      " 95%|█████████████████████████████████████████  | 21/22 [00:41<00:01,  1.33s/it]\u001b[A\n",
      "100%|███████████████████████████████████████████| 22/22 [00:50<00:00,  2.30s/it]\u001b[A\n",
      "Load checkpoint from: ./savedmodel/wav2lip_checkpoint_step000001100.pth\n",
      "Model loaded\n",
      "100%|█████████████████████████████████████████████| 3/3 [02:03<00:00, 41.24s/it]\n",
      "ffmpeg version 4.2.3 Copyright (c) 2000-2020 the FFmpeg developers\n",
      "  built with gcc 7.5.0 (crosstool-NG 1.24.0.123_1667d2b)\n",
      "  configuration: --prefix=/home/conda/feedstock_root/build_artifacts/ffmpeg_1590573566052/_h_env_placehold_placehold_placehold_placehold_placehold_placehold_placehold_placehold_placehold_placehold_placehold_placehold_placehold_placehold_placehold_placehold_placehold_placehold_plac --cc=/home/conda/feedstock_root/build_artifacts/ffmpeg_1590573566052/_build_env/bin/x86_64-conda_cos6-linux-gnu-cc --disable-doc --disable-openssl --enable-avresample --enable-gnutls --enable-gpl --enable-hardcoded-tables --enable-libfreetype --enable-libopenh264 --enable-libx264 --enable-pic --enable-pthreads --enable-shared --enable-static --enable-version3 --enable-zlib --enable-libmp3lame\n",
      "  libavutil      56. 31.100 / 56. 31.100\n",
      "  libavcodec     58. 54.100 / 58. 54.100\n",
      "  libavformat    58. 29.100 / 58. 29.100\n",
      "  libavdevice    58.  8.100 / 58.  8.100\n",
      "  libavfilter     7. 57.100 /  7. 57.100\n",
      "  libavresample   4.  0.  0 /  4.  0.  0\n",
      "  libswscale      5.  5.100 /  5.  5.100\n",
      "  libswresample   3.  5.100 /  3.  5.100\n",
      "  libpostproc    55.  5.100 / 55.  5.100\n",
      "\u001b[0;33mGuessed Channel Layout for Input Stream #0.0 : stereo\n",
      "\u001b[0mInput #0, wav, from '../test.wav':\n",
      "  Metadata:\n",
      "    encoder         : Lavf60.3.100\n",
      "  Duration: 00:00:11.69, bitrate: 1536 kb/s\n",
      "    Stream #0:0: Audio: pcm_s16le ([1][0][0][0] / 0x0001), 48000 Hz, stereo, s16, 1536 kb/s\n",
      "Input #1, avi, from 'temp/result.avi':\n",
      "  Metadata:\n",
      "    encoder         : Lavf59.27.100\n",
      "  Duration: 00:00:11.58, start: 0.000000, bitrate: 10890 kb/s\n",
      "    Stream #1:0: Video: mpeg4 (Simple Profile) (DIVX / 0x58564944), yuv420p, 720x1280 [SAR 1:1 DAR 9:16], 10912 kb/s, 30.14 fps, 30 tbr, 30.14 tbn, 3768 tbc\n",
      "Stream mapping:\n",
      "  Stream #1:0 -> #0:0 (mpeg4 (native) -> h264 (libx264))\n",
      "  Stream #0:0 -> #0:1 (pcm_s16le (native) -> aac (native))\n",
      "Press [q] to stop, [?] for help\n",
      "\u001b[1;36m[libx264 @ 0x55d773b54e40] \u001b[0m\u001b[0;33m-qscale is ignored, -crf is recommended.\n",
      "\u001b[0m\u001b[1;36m[libx264 @ 0x55d773b54e40] \u001b[0musing SAR=1/1\n",
      "\u001b[1;36m[libx264 @ 0x55d773b54e40] \u001b[0musing cpu capabilities: MMX2 SSE2Fast SSSE3 SSE4.2 AVX FMA3 BMI2 AVX2\n",
      "\u001b[1;36m[libx264 @ 0x55d773b54e40] \u001b[0mprofile High, level 3.1\n",
      "\u001b[1;36m[libx264 @ 0x55d773b54e40] \u001b[0m264 - core 152 - H.264/MPEG-4 AVC codec - Copyleft 2003-2017 - http://www.videolan.org/x264.html - options: cabac=1 ref=3 deblock=1:0:0 analyse=0x3:0x113 me=hex subme=7 psy=1 psy_rd=1.00:0.00 mixed_ref=1 me_range=16 chroma_me=1 trellis=1 8x8dct=1 cqm=0 deadzone=21,11 fast_pskip=1 chroma_qp_offset=-2 threads=12 lookahead_threads=2 sliced_threads=0 nr=0 decimate=1 interlaced=0 bluray_compat=0 constrained_intra=0 bframes=3 b_pyramid=2 b_adapt=1 b_bias=0 direct=1 weightb=1 open_gop=0 weightp=2 keyint=250 keyint_min=25 scenecut=40 intra_refresh=0 rc_lookahead=40 rc=crf mbtree=1 crf=23.0 qcomp=0.60 qpmin=0 qpmax=69 qpstep=4 ip_ratio=1.40 aq=1:1.00\n",
      "Output #0, mp4, to 'results/result_voice.mp4':\n",
      "  Metadata:\n",
      "    encoder         : Lavf58.29.100\n",
      "    Stream #0:0: Video: h264 (libx264) (avc1 / 0x31637661), yuv420p(progressive), 720x1280 [SAR 1:1 DAR 9:16], q=-1--1, 30 fps, 15360 tbn, 30 tbc\n",
      "    Metadata:\n",
      "      encoder         : Lavc58.54.100 libx264\n",
      "    Side data:\n",
      "      cpb: bitrate max/min/avg: 0/0/0 buffer size: 0 vbv_delay: -1\n",
      "    Stream #0:1: Audio: aac (LC) (mp4a / 0x6134706D), 48000 Hz, stereo, fltp, 128 kb/s\n",
      "    Metadata:\n",
      "      encoder         : Lavc58.54.100 aac\n",
      "frame=  349 fps= 58 q=-1.0 Lsize=    5076kB time=00:00:11.69 bitrate=3557.2kbits/s speed=1.94x    \n",
      "video:4878kB audio:186kB subtitle:0kB other streams:0kB global headers:0kB muxing overhead: 0.250980%\n",
      "\u001b[1;36m[libx264 @ 0x55d773b54e40] \u001b[0mframe I:2     Avg QP:22.07  size: 72184\n",
      "\u001b[1;36m[libx264 @ 0x55d773b54e40] \u001b[0mframe P:229   Avg QP:24.03  size: 19088\n",
      "\u001b[1;36m[libx264 @ 0x55d773b54e40] \u001b[0mframe B:118   Avg QP:27.38  size:  4056\n",
      "\u001b[1;36m[libx264 @ 0x55d773b54e40] \u001b[0mconsecutive B-frames: 50.4% 10.9%  7.7% 30.9%\n",
      "\u001b[1;36m[libx264 @ 0x55d773b54e40] \u001b[0mmb I  I16..4: 16.9% 76.0%  7.1%\n",
      "\u001b[1;36m[libx264 @ 0x55d773b54e40] \u001b[0mmb P  I16..4:  2.1%  6.1%  0.3%  P16..4: 47.4% 12.2%  9.1%  0.0%  0.0%    skip:22.8%\n",
      "\u001b[1;36m[libx264 @ 0x55d773b54e40] \u001b[0mmb B  I16..4:  0.6%  2.0%  0.0%  B16..8: 46.7%  3.1%  0.4%  direct: 0.6%  skip:46.6%  L0:48.6% L1:38.2% BI:13.2%\n",
      "\u001b[1;36m[libx264 @ 0x55d773b54e40] \u001b[0m8x8 transform intra:72.5% inter:84.2%\n",
      "\u001b[1;36m[libx264 @ 0x55d773b54e40] \u001b[0mcoded y,uvDC,uvAC intra: 44.1% 56.7% 5.1% inter: 20.2% 10.6% 0.1%\n",
      "\u001b[1;36m[libx264 @ 0x55d773b54e40] \u001b[0mi16 v,h,dc,p: 29% 26% 23% 22%\n",
      "\u001b[1;36m[libx264 @ 0x55d773b54e40] \u001b[0mi8 v,h,dc,ddl,ddr,vr,hd,vl,hu: 26% 22% 37%  3%  2%  3%  2%  2%  2%\n",
      "\u001b[1;36m[libx264 @ 0x55d773b54e40] \u001b[0mi4 v,h,dc,ddl,ddr,vr,hd,vl,hu: 41% 20% 12%  4%  5%  7%  4%  5%  3%\n",
      "\u001b[1;36m[libx264 @ 0x55d773b54e40] \u001b[0mi8c dc,h,v,p: 49% 22% 25%  4%\n",
      "\u001b[1;36m[libx264 @ 0x55d773b54e40] \u001b[0mWeighted P-Frames: Y:7.9% UV:0.0%\n",
      "\u001b[1;36m[libx264 @ 0x55d773b54e40] \u001b[0mref P L0: 72.3% 12.8% 11.4%  3.5%  0.1%\n",
      "\u001b[1;36m[libx264 @ 0x55d773b54e40] \u001b[0mref B L0: 88.2%  9.4%  2.4%\n",
      "\u001b[1;36m[libx264 @ 0x55d773b54e40] \u001b[0mref B L1: 96.1%  3.9%\n",
      "\u001b[1;36m[libx264 @ 0x55d773b54e40] \u001b[0mkb/s:3434.33\n",
      "\u001b[1;36m[aac @ 0x55d773b55840] \u001b[0mQavg: 1004.547\n",
      "\u001b[0m"
     ]
    }
   ],
   "source": [
    "!python inference.py --checkpoint_path ./savedmodel/wav2lip_checkpoint_step000001100.pth --face ../VID20230620105517.mp4 --audio ../test.wav\n"
   ]
  },
  {
   "cell_type": "code",
   "execution_count": 12,
   "id": "89403387-1a29-417f-87c2-1b98e48a902e",
   "metadata": {
    "scrolled": true,
    "tags": []
   },
   "outputs": [
    {
     "name": "stdout",
     "output_type": "stream",
     "text": [
      "Using cuda for inference.\n",
      "Reading video frames...\n",
      "Number of frames available for inference: 57\n",
      "(80, 185)\n",
      "Length of mel chunks: 55\n",
      "  0%|                                                     | 0/1 [00:00<?, ?it/s]\n",
      "  0%|                                                     | 0/4 [00:00<?, ?it/s]\u001b[A\n",
      " 25%|███████████▎                                 | 1/4 [00:02<00:07,  2.35s/it]\u001b[A\n",
      " 50%|██████████████████████▌                      | 2/4 [00:02<00:02,  1.11s/it]\u001b[A\n",
      " 75%|█████████████████████████████████▊           | 3/4 [00:02<00:00,  1.42it/s]\u001b[A\n",
      "100%|█████████████████████████████████████████████| 4/4 [00:03<00:00,  1.17it/s]\u001b[A\n",
      "Load checkpoint from: ./savedmodel/wav2lip_checkpoint_step000001100.pth\n",
      "Model loaded\n",
      "100%|█████████████████████████████████████████████| 1/1 [00:13<00:00, 13.60s/it]\n",
      "ffmpeg version 4.2.3 Copyright (c) 2000-2020 the FFmpeg developers\n",
      "  built with gcc 7.5.0 (crosstool-NG 1.24.0.123_1667d2b)\n",
      "  configuration: --prefix=/home/conda/feedstock_root/build_artifacts/ffmpeg_1590573566052/_h_env_placehold_placehold_placehold_placehold_placehold_placehold_placehold_placehold_placehold_placehold_placehold_placehold_placehold_placehold_placehold_placehold_placehold_placehold_plac --cc=/home/conda/feedstock_root/build_artifacts/ffmpeg_1590573566052/_build_env/bin/x86_64-conda_cos6-linux-gnu-cc --disable-doc --disable-openssl --enable-avresample --enable-gnutls --enable-gpl --enable-hardcoded-tables --enable-libfreetype --enable-libopenh264 --enable-libx264 --enable-pic --enable-pthreads --enable-shared --enable-static --enable-version3 --enable-zlib --enable-libmp3lame\n",
      "  libavutil      56. 31.100 / 56. 31.100\n",
      "  libavcodec     58. 54.100 / 58. 54.100\n",
      "  libavformat    58. 29.100 / 58. 29.100\n",
      "  libavdevice    58.  8.100 / 58.  8.100\n",
      "  libavfilter     7. 57.100 /  7. 57.100\n",
      "  libavresample   4.  0.  0 /  4.  0.  0\n",
      "  libswscale      5.  5.100 /  5.  5.100\n",
      "  libswresample   3.  5.100 /  3.  5.100\n",
      "  libpostproc    55.  5.100 / 55.  5.100\n",
      "\u001b[0;33mGuessed Channel Layout for Input Stream #0.0 : mono\n",
      "\u001b[0mInput #0, wav, from '../LSR2/lrs2_preprocessed_288x288-demo/5539702505926936192/00001/audio.wav':\n",
      "  Metadata:\n",
      "    encoder         : Lavf58.29.100\n",
      "  Duration: 00:00:02.30, bitrate: 256 kb/s\n",
      "    Stream #0:0: Audio: pcm_s16le ([1][0][0][0] / 0x0001), 16000 Hz, mono, s16, 256 kb/s\n",
      "Input #1, avi, from 'temp/result.avi':\n",
      "  Metadata:\n",
      "    encoder         : Lavf59.27.100\n",
      "  Duration: 00:00:02.20, start: 0.000000, bitrate: 332 kb/s\n",
      "    Stream #1:0: Video: mpeg4 (Simple Profile) (DIVX / 0x58564944), yuv420p, 160x160 [SAR 1:1 DAR 1:1], 312 kb/s, 25 fps, 25 tbr, 25 tbn, 25 tbc\n",
      "Stream mapping:\n",
      "  Stream #1:0 -> #0:0 (mpeg4 (native) -> h264 (libx264))\n",
      "  Stream #0:0 -> #0:1 (pcm_s16le (native) -> aac (native))\n",
      "Press [q] to stop, [?] for help\n",
      "\u001b[1;36m[libx264 @ 0x559e1065e080] \u001b[0m\u001b[0;33m-qscale is ignored, -crf is recommended.\n",
      "\u001b[0m\u001b[1;36m[libx264 @ 0x559e1065e080] \u001b[0musing SAR=1/1\n",
      "\u001b[1;36m[libx264 @ 0x559e1065e080] \u001b[0musing cpu capabilities: MMX2 SSE2Fast SSSE3 SSE4.2 AVX FMA3 BMI2 AVX2\n",
      "\u001b[1;36m[libx264 @ 0x559e1065e080] \u001b[0mprofile High, level 1.1\n",
      "\u001b[1;36m[libx264 @ 0x559e1065e080] \u001b[0m264 - core 152 - H.264/MPEG-4 AVC codec - Copyleft 2003-2017 - http://www.videolan.org/x264.html - options: cabac=1 ref=3 deblock=1:0:0 analyse=0x3:0x113 me=hex subme=7 psy=1 psy_rd=1.00:0.00 mixed_ref=1 me_range=16 chroma_me=1 trellis=1 8x8dct=1 cqm=0 deadzone=21,11 fast_pskip=1 chroma_qp_offset=-2 threads=5 lookahead_threads=1 sliced_threads=0 nr=0 decimate=1 interlaced=0 bluray_compat=0 constrained_intra=0 bframes=3 b_pyramid=2 b_adapt=1 b_bias=0 direct=1 weightb=1 open_gop=0 weightp=2 keyint=250 keyint_min=25 scenecut=40 intra_refresh=0 rc_lookahead=40 rc=crf mbtree=1 crf=23.0 qcomp=0.60 qpmin=0 qpmax=69 qpstep=4 ip_ratio=1.40 aq=1:1.00\n",
      "Output #0, mp4, to 'results/result_voice.mp4':\n",
      "  Metadata:\n",
      "    encoder         : Lavf58.29.100\n",
      "    Stream #0:0: Video: h264 (libx264) (avc1 / 0x31637661), yuv420p(progressive), 160x160 [SAR 1:1 DAR 1:1], q=-1--1, 25 fps, 12800 tbn, 25 tbc\n",
      "    Metadata:\n",
      "      encoder         : Lavc58.54.100 libx264\n",
      "    Side data:\n",
      "      cpb: bitrate max/min/avg: 0/0/0 buffer size: 0 vbv_delay: -1\n",
      "    Stream #0:1: Audio: aac (LC) (mp4a / 0x6134706D), 16000 Hz, mono, fltp, 69 kb/s\n",
      "    Metadata:\n",
      "      encoder         : Lavc58.54.100 aac\n",
      "frame=   55 fps=0.0 q=-1.0 Lsize=      58kB time=00:00:02.30 bitrate= 205.6kbits/s speed=25.6x    \n",
      "video:36kB audio:20kB subtitle:0kB other streams:0kB global headers:0kB muxing overhead: 4.333504%\n",
      "\u001b[1;36m[libx264 @ 0x559e1065e080] \u001b[0mframe I:1     Avg QP:25.18  size:  3003\n",
      "\u001b[1;36m[libx264 @ 0x559e1065e080] \u001b[0mframe P:51    Avg QP:25.97  size:   638\n",
      "\u001b[1;36m[libx264 @ 0x559e1065e080] \u001b[0mframe B:3     Avg QP:30.43  size:   158\n",
      "\u001b[1;36m[libx264 @ 0x559e1065e080] \u001b[0mconsecutive B-frames: 89.1% 10.9%  0.0%  0.0%\n",
      "\u001b[1;36m[libx264 @ 0x559e1065e080] \u001b[0mmb I  I16..4:  1.0% 92.0%  7.0%\n",
      "\u001b[1;36m[libx264 @ 0x559e1065e080] \u001b[0mmb P  I16..4:  0.0%  0.8%  0.0%  P16..4: 46.9% 29.4% 14.9%  0.0%  0.0%    skip: 7.9%\n",
      "\u001b[1;36m[libx264 @ 0x559e1065e080] \u001b[0mmb B  I16..4:  0.0%  0.0%  0.0%  B16..8: 57.7%  6.0%  0.7%  direct: 1.7%  skip:34.0%  L0:47.7% L1:35.8% BI:16.6%\n",
      "\u001b[1;36m[libx264 @ 0x559e1065e080] \u001b[0m8x8 transform intra:92.4% inter:69.1%\n",
      "\u001b[1;36m[libx264 @ 0x559e1065e080] \u001b[0mcoded y,uvDC,uvAC intra: 96.5% 99.3% 73.6% inter: 36.7% 39.0% 2.8%\n",
      "\u001b[1;36m[libx264 @ 0x559e1065e080] \u001b[0mi16 v,h,dc,p: 50%  0%  0% 50%\n",
      "\u001b[1;36m[libx264 @ 0x559e1065e080] \u001b[0mi8 v,h,dc,ddl,ddr,vr,hd,vl,hu: 29% 14% 19%  3%  4% 11%  3% 10%  7%\n",
      "\u001b[1;36m[libx264 @ 0x559e1065e080] \u001b[0mi4 v,h,dc,ddl,ddr,vr,hd,vl,hu: 24% 11%  8%  6% 15% 17% 10%  4%  5%\n",
      "\u001b[1;36m[libx264 @ 0x559e1065e080] \u001b[0mi8c dc,h,v,p: 44% 18% 24% 14%\n",
      "\u001b[1;36m[libx264 @ 0x559e1065e080] \u001b[0mWeighted P-Frames: Y:0.0% UV:0.0%\n",
      "\u001b[1;36m[libx264 @ 0x559e1065e080] \u001b[0mref P L0: 73.5% 20.8%  4.1%  1.6%\n",
      "\u001b[1;36m[libx264 @ 0x559e1065e080] \u001b[0mref B L0: 93.5%  6.5%\n",
      "\u001b[1;36m[libx264 @ 0x559e1065e080] \u001b[0mkb/s:130.91\n",
      "\u001b[1;36m[aac @ 0x559e1063c2c0] \u001b[0mQavg: 136.509\n",
      "\u001b[0m"
     ]
    }
   ],
   "source": [
    "!python inference.py --checkpoint_path ./savedmodel/wav2lip_checkpoint_step000001100.pth --face ../LSR2/demo/5539702505926936192/00001.mp4 --audio ../LSR2/lrs2_preprocessed_288x288-demo/5539702505926936192/00001/audio.wav\n"
   ]
  },
  {
   "cell_type": "markdown",
   "id": "6c6126c1",
   "metadata": {
    "papermill": {
     "duration": 0.039921,
     "end_time": "2021-08-02T15:03:05.798058",
     "exception": false,
     "start_time": "2021-08-02T15:03:05.758137",
     "status": "completed"
    },
    "tags": []
   },
   "source": [
    "## 3. 模型训练\n",
    "模型的训练主要分为两个部分：\n",
    "1. Lip-Sync Expert Discriminator的训练。这里提供官方的预训练模型 [weight](https://iiitaphyd-my.sharepoint.com/:u:/g/personal/radrabha_m_research_iiit_ac_in/EQRvmiZg-HRAjvI6zqN9eTEBP74KefynCwPWVmF57l-AYA?e=ZRPHKP)\n",
    "2. Wav2Lip 模型的训练。\n",
    "\n",
    "### 3.1 预训练Lip-Sync Expert\n",
    "#### 1. 网络的搭建 \n",
    "上面我们已经介绍了SyncNet的基本网络结构，主要有一系列的(Conv+BatchNorm+Relu)组成，这里我们对其进行了一些改进，加入了残差结构。为了方便之后的使用，我们对(Conv+BatchNorm+Relu)以及残差模块进行了封装。"
   ]
  },
  {
   "cell_type": "code",
   "execution_count": 3,
   "id": "ab9bf4e1",
   "metadata": {
    "execution": {
     "iopub.execute_input": "2021-08-02T15:03:05.982454Z",
     "iopub.status.busy": "2021-08-02T15:03:05.981576Z",
     "iopub.status.idle": "2021-08-02T15:03:05.994328Z",
     "shell.execute_reply": "2021-08-02T15:03:05.995013Z",
     "shell.execute_reply.started": "2021-07-30T15:10:55.205557Z"
    },
    "papermill": {
     "duration": 0.15723,
     "end_time": "2021-08-02T15:03:05.995228",
     "exception": false,
     "start_time": "2021-08-02T15:03:05.837998",
     "status": "completed"
    },
    "tags": []
   },
   "outputs": [
    {
     "name": "stdout",
     "output_type": "stream",
     "text": [
      "/kaggle/input/wave2lip/wav2lip_homework\n"
     ]
    }
   ],
   "source": [
    "%cd ../input/wave2lip/wav2lip_homework"
   ]
  },
  {
   "cell_type": "code",
   "execution_count": 4,
   "id": "d42226b2",
   "metadata": {
    "execution": {
     "iopub.execute_input": "2021-08-02T15:03:06.085467Z",
     "iopub.status.busy": "2021-08-02T15:03:06.084752Z",
     "iopub.status.idle": "2021-08-02T15:03:07.548713Z",
     "shell.execute_reply": "2021-08-02T15:03:07.548085Z",
     "shell.execute_reply.started": "2021-07-30T15:10:59.610288Z"
    },
    "papermill": {
     "duration": 1.512392,
     "end_time": "2021-08-02T15:03:07.548865",
     "exception": false,
     "start_time": "2021-08-02T15:03:06.036473",
     "status": "completed"
    },
    "tags": []
   },
   "outputs": [],
   "source": [
    "import torch\n",
    "from torch import nn\n",
    "from torch.nn import functional as F\n",
    "\n",
    "class Conv2d(nn.Module):\n",
    "    def __init__(self, cin, cout, kernel_size, stride, padding, residual=False, *args, **kwargs):\n",
    "        super().__init__(*args, **kwargs)\n",
    "        ########TODO######################\n",
    "        # 按下面的网络结构要求，补全代码\n",
    "        # self.conv_block: Sequential结构，Conv2d+BatchNorm\n",
    "        # self.act: relu激活函数\n",
    "        self.conv_block = nn.Sequential(\n",
    "                            nn.Conv2d(cin, cout, kernel_size, stride, padding),\n",
    "                            nn.BatchNorm2d(cout)\n",
    "                            )\n",
    "        self.act = nn.ReLU()\n",
    "        self.residual = residual\n",
    "\n",
    "    def forward(self, x):\n",
    "        out = self.conv_block(x)\n",
    "        if self.residual:\n",
    "            out += x\n",
    "        return self.act(out)"
   ]
  },
  {
   "cell_type": "markdown",
   "id": "bea2698a",
   "metadata": {
    "papermill": {
     "duration": 0.040308,
     "end_time": "2021-08-02T15:03:07.630762",
     "exception": false,
     "start_time": "2021-08-02T15:03:07.590454",
     "status": "completed"
    },
    "tags": []
   },
   "source": [
    "SyncNet的主要包含两个部分：Face_encoder和Audio_encoder。每一个部分都由多个Conv2d模块组成，通过指定卷积核的大小实现对输入的下采样和特征提取"
   ]
  },
  {
   "cell_type": "code",
   "execution_count": 5,
   "id": "978ff17b",
   "metadata": {
    "execution": {
     "iopub.execute_input": "2021-08-02T15:03:07.732580Z",
     "iopub.status.busy": "2021-08-02T15:03:07.728156Z",
     "iopub.status.idle": "2021-08-02T15:03:07.735885Z",
     "shell.execute_reply": "2021-08-02T15:03:07.735315Z",
     "shell.execute_reply.started": "2021-07-30T15:11:04.53338Z"
    },
    "papermill": {
     "duration": 0.065911,
     "end_time": "2021-08-02T15:03:07.736041",
     "exception": false,
     "start_time": "2021-08-02T15:03:07.670130",
     "status": "completed"
    },
    "tags": []
   },
   "outputs": [],
   "source": [
    "import torch\n",
    "from torch import nn\n",
    "from torch.nn import functional as F\n",
    "\n",
    "class SyncNet_color(nn.Module):\n",
    "    def __init__(self):\n",
    "        super(SyncNet_color, self).__init__()\n",
    "        \n",
    "        ################TODO###################\n",
    "        #根据上面提供的网络结构图，补全下面卷积网络的参数\n",
    "\n",
    "        self.face_encoder = nn.Sequential(\n",
    "            Conv2d(15, 32, kernel_size=(7, 7), stride=1, padding=3),\n",
    "\n",
    "            Conv2d(32, 64, kernel_size=5, stride=(1, 2), padding=1),\n",
    "            Conv2d(64, 64, kernel_size=3, stride=1, padding=1, residual=True),\n",
    "            Conv2d(64, 64, kernel_size=3, stride=1, padding=1, residual=True),\n",
    "\n",
    "            Conv2d(64, 128, kernel_size=3, stride=2, padding=1),\n",
    "            Conv2d(128, 128, kernel_size=3, stride=1, padding=1, residual=True),\n",
    "            Conv2d(128, 128, kernel_size=3, stride=1, padding=1, residual=True),\n",
    "            Conv2d(128, 128, kernel_size=3, stride=1, padding=1, residual=True),\n",
    "\n",
    "            Conv2d(128, 256, kernel_size=3, stride=2, padding=1),\n",
    "            Conv2d(256, 256, kernel_size=3, stride=1, padding=1, residual=True),\n",
    "            Conv2d(256, 256, kernel_size=3, stride=1, padding=1, residual=True),\n",
    "\n",
    "            Conv2d(256, 512, kernel_size=3, stride=2, padding=1),\n",
    "            Conv2d(512, 512, kernel_size=3, stride=1, padding=1, residual=True),\n",
    "            Conv2d(512, 512, kernel_size=3, stride=1, padding=1, residual=True),\n",
    "\n",
    "            Conv2d(512, 512, kernel_size=3, stride=2, padding=1),\n",
    "            Conv2d(512, 512, kernel_size=3, stride=1, padding=0),\n",
    "            Conv2d(512, 512, kernel_size=1, stride=1, padding=0),)\n",
    "\n",
    "        self.audio_encoder = nn.Sequential(\n",
    "            Conv2d(1, 32, kernel_size=3, stride=1, padding=1),\n",
    "            Conv2d(32, 32, kernel_size=3, stride=1, padding=1, residual=True),\n",
    "            Conv2d(32, 32, kernel_size=3, stride=1, padding=1, residual=True),\n",
    "\n",
    "            Conv2d(32, 64, kernel_size=3, stride=(3, 1), padding=1),\n",
    "            Conv2d(64, 64, kernel_size=3, stride=1, padding=1, residual=True),\n",
    "            Conv2d(64, 64, kernel_size=3, stride=1, padding=1, residual=True),\n",
    "\n",
    "            Conv2d(64, 128, kernel_size=3, stride=3, padding=1),\n",
    "            Conv2d(128, 128, kernel_size=3, stride=1, padding=1, residual=True),\n",
    "            Conv2d(128, 128, kernel_size=3, stride=1, padding=1, residual=True),\n",
    "\n",
    "            Conv2d(128, 256, kernel_size=3, stride=(3, 2), padding=1),\n",
    "            Conv2d(256, 256, kernel_size=3, stride=1, padding=1, residual=True),\n",
    "            Conv2d(256, 256, kernel_size=3, stride=1, padding=1, residual=True),\n",
    "\n",
    "            Conv2d(256, 512, kernel_size=3, stride=1, padding=0),\n",
    "            Conv2d(512, 512, kernel_size=1, stride=1, padding=0),)\n",
    "\n",
    "    def forward(self, audio_sequences, face_sequences): # audio_sequences := (B, dim, T)\n",
    "        \n",
    "        #########################TODO#######################\n",
    "        # 正向传播\n",
    "        face_embedding = self.face_encoder(face_sequences)\n",
    "        audio_embedding = self.audio_encoder(audio_sequences)\n",
    "\n",
    "        audio_embedding = audio_embedding.view(audio_embedding.size(0), -1)\n",
    "        face_embedding = face_embedding.view(face_embedding.size(0), -1)\n",
    "\n",
    "        audio_embedding = F.normalize(audio_embedding, p=2, dim=1)\n",
    "        face_embedding = F.normalize(face_embedding, p=2, dim=1)\n",
    "\n",
    "\n",
    "        return audio_embedding, face_embedding"
   ]
  },
  {
   "cell_type": "code",
   "execution_count": 6,
   "id": "3012f8a1",
   "metadata": {
    "execution": {
     "iopub.execute_input": "2021-08-02T15:03:07.822702Z",
     "iopub.status.busy": "2021-08-02T15:03:07.821802Z",
     "iopub.status.idle": "2021-08-02T15:03:10.535026Z",
     "shell.execute_reply": "2021-08-02T15:03:10.535630Z",
     "shell.execute_reply.started": "2021-07-30T15:11:11.303526Z"
    },
    "papermill": {
     "duration": 2.759792,
     "end_time": "2021-08-02T15:03:10.535820",
     "exception": false,
     "start_time": "2021-08-02T15:03:07.776028",
     "status": "completed"
    },
    "tags": []
   },
   "outputs": [],
   "source": [
    "from os.path import dirname, join, basename, isfile\n",
    "from tqdm import tqdm\n",
    "\n",
    "from models import SyncNet_color as SyncNet\n",
    "import audio\n",
    "\n",
    "import torch\n",
    "from torch import nn\n",
    "from torch import optim\n",
    "import torch.backends.cudnn as cudnn\n",
    "from torch.utils import data as data_utils\n",
    "import numpy as np\n",
    "\n",
    "from glob import glob\n",
    "\n",
    "import os, random, cv2, argparse\n",
    "from hparams import hparams, get_image_list"
   ]
  },
  {
   "cell_type": "markdown",
   "id": "cd5ca431",
   "metadata": {
    "papermill": {
     "duration": 0.042466,
     "end_time": "2021-08-02T15:03:10.619249",
     "exception": false,
     "start_time": "2021-08-02T15:03:10.576783",
     "status": "completed"
    },
    "tags": []
   },
   "source": [
    "#### 2.数据集的定义"
   ]
  },
  {
   "cell_type": "code",
   "execution_count": 7,
   "id": "8e0eba33",
   "metadata": {
    "execution": {
     "iopub.execute_input": "2021-08-02T15:03:10.759060Z",
     "iopub.status.busy": "2021-08-02T15:03:10.758110Z",
     "iopub.status.idle": "2021-08-02T15:03:10.762600Z",
     "shell.execute_reply": "2021-08-02T15:03:10.763266Z",
     "shell.execute_reply.started": "2021-07-30T15:11:14.929415Z"
    },
    "papermill": {
     "duration": 0.103402,
     "end_time": "2021-08-02T15:03:10.763469",
     "exception": false,
     "start_time": "2021-08-02T15:03:10.660067",
     "status": "completed"
    },
    "tags": []
   },
   "outputs": [
    {
     "name": "stdout",
     "output_type": "stream",
     "text": [
      "use_cuda: True\n"
     ]
    }
   ],
   "source": [
    "global_step = 0 #起始的step\n",
    "global_epoch = 0 #起始的epoch\n",
    "use_cuda = torch.cuda.is_available()#训练的设备 cpu or gpu\n",
    "print('use_cuda: {}'.format(use_cuda))\n",
    "\n",
    "syncnet_T = 5 ## 每次选取200ms的视频片段进行训练，视频的fps为25，所以200ms对应的帧数为：25*0.2=5帧\n",
    "syncnet_mel_step_size = 16 # 200ms对应的声音的mel-spectrogram特征的长度为16.\n",
    "data_root=\"/kaggle/input/wav2lippreprocessed/lrs2_preprocessed\" #数据集的位置"
   ]
  },
  {
   "cell_type": "code",
   "execution_count": 8,
   "id": "35646995",
   "metadata": {
    "execution": {
     "iopub.execute_input": "2021-08-02T15:03:10.866626Z",
     "iopub.status.busy": "2021-08-02T15:03:10.865387Z",
     "iopub.status.idle": "2021-08-02T15:03:10.868249Z",
     "shell.execute_reply": "2021-08-02T15:03:10.868927Z",
     "shell.execute_reply.started": "2021-07-30T15:18:29.73854Z"
    },
    "papermill": {
     "duration": 0.065143,
     "end_time": "2021-08-02T15:03:10.869112",
     "exception": false,
     "start_time": "2021-08-02T15:03:10.803969",
     "status": "completed"
    },
    "tags": []
   },
   "outputs": [],
   "source": [
    "class Dataset(object):\n",
    "    def __init__(self, split):\n",
    "        self.all_videos = get_image_list(data_root, split)\n",
    "\n",
    "    def get_frame_id(self, frame):\n",
    "        return int(basename(frame).split('.')[0])\n",
    "\n",
    "    def get_window(self, start_frame):\n",
    "        start_id = self.get_frame_id(start_frame)\n",
    "        vidname = dirname(start_frame)\n",
    "\n",
    "        window_fnames = []\n",
    "        for frame_id in range(start_id, start_id + syncnet_T):\n",
    "            frame = join(vidname, '{}.jpg'.format(frame_id))\n",
    "            if not isfile(frame):\n",
    "                return None\n",
    "            window_fnames.append(frame)\n",
    "        return window_fnames\n",
    "\n",
    "    def crop_audio_window(self, spec, start_frame):\n",
    "        # num_frames = (T x hop_size * fps) / sample_rate\n",
    "        start_frame_num = self.get_frame_id(start_frame)\n",
    "        start_idx = int(80. * (start_frame_num / float(hparams.fps)))\n",
    "\n",
    "        end_idx = start_idx + syncnet_mel_step_size\n",
    "\n",
    "        return spec[start_idx : end_idx, :]\n",
    "\n",
    "\n",
    "    def __len__(self):\n",
    "        return len(self.all_videos)\n",
    "\n",
    "    def __getitem__(self, idx):\n",
    "        \"\"\"\n",
    "        return: x,mel,y\n",
    "        x: 五张嘴唇图片\n",
    "        mel：对应的语音的mel spectrogram\n",
    "        t：同步or不同步\n",
    "        \n",
    "        \"\"\"\n",
    "        while 1:\n",
    "            idx = random.randint(0, len(self.all_videos) - 1)\n",
    "            vidname = self.all_videos[idx]\n",
    "\n",
    "            img_names = list(glob(join(vidname, '*.jpg')))\n",
    "            if len(img_names) <= 3 * syncnet_T:\n",
    "                continue\n",
    "            img_name = random.choice(img_names)\n",
    "            wrong_img_name = random.choice(img_names)\n",
    "            while wrong_img_name == img_name:\n",
    "                wrong_img_name = random.choice(img_names)\n",
    "            \n",
    "            \n",
    "            #随机决定是产生负样本还是正样本\n",
    "            if random.choice([True, False]):\n",
    "                y = torch.ones(1).float()\n",
    "                chosen = img_name\n",
    "            else:\n",
    "                y = torch.zeros(1).float()\n",
    "                chosen = wrong_img_name\n",
    "\n",
    "            window_fnames = self.get_window(chosen)\n",
    "            if window_fnames is None:\n",
    "                continue\n",
    "\n",
    "            window = []\n",
    "            all_read = True\n",
    "            for fname in window_fnames:\n",
    "                img = cv2.imread(fname)\n",
    "                if img is None:\n",
    "                    all_read = False\n",
    "                    break\n",
    "                try:\n",
    "                    img = cv2.resize(img, (hparams.img_size, hparams.img_size))\n",
    "                except Exception as e:\n",
    "                    all_read = False\n",
    "                    break\n",
    "\n",
    "                window.append(img)\n",
    "\n",
    "            if not all_read: continue\n",
    "\n",
    "            try:\n",
    "                wavpath = join(vidname, \"audio.wav\")\n",
    "                wav = audio.load_wav(wavpath, hparams.sample_rate)\n",
    "\n",
    "                orig_mel = audio.melspectrogram(wav).T\n",
    "            except Exception as e:\n",
    "                continue\n",
    "\n",
    "            mel = self.crop_audio_window(orig_mel.copy(), img_name)\n",
    "\n",
    "            if (mel.shape[0] != syncnet_mel_step_size):\n",
    "                continue\n",
    "\n",
    "            # H x W x 3 * T\n",
    "            x = np.concatenate(window, axis=2) / 255.\n",
    "            x = x.transpose(2, 0, 1)\n",
    "            x = x[:, x.shape[1]//2:]\n",
    "\n",
    "            x = torch.FloatTensor(x)\n",
    "            mel = torch.FloatTensor(mel.T).unsqueeze(0)\n",
    "\n",
    "            return x, mel, y"
   ]
  },
  {
   "cell_type": "code",
   "execution_count": 9,
   "id": "1ec595dc",
   "metadata": {
    "execution": {
     "iopub.execute_input": "2021-08-02T15:03:10.956091Z",
     "iopub.status.busy": "2021-08-02T15:03:10.955418Z",
     "iopub.status.idle": "2021-08-02T15:03:11.206554Z",
     "shell.execute_reply": "2021-08-02T15:03:11.208132Z",
     "shell.execute_reply.started": "2021-07-30T15:18:33.470434Z"
    },
    "papermill": {
     "duration": 0.298523,
     "end_time": "2021-08-02T15:03:11.208470",
     "exception": false,
     "start_time": "2021-08-02T15:03:10.909947",
     "status": "completed"
    },
    "tags": []
   },
   "outputs": [
    {
     "name": "stdout",
     "output_type": "stream",
     "text": [
      "torch.Size([15, 48, 96])\n",
      "torch.Size([1, 80, 16])\n",
      "torch.Size([1])\n"
     ]
    }
   ],
   "source": [
    "ds=Dataset(\"train\")\n",
    "x,mel,t=ds[0]\n",
    "print(x.shape)\n",
    "print(mel.shape)\n",
    "print(t.shape)"
   ]
  },
  {
   "cell_type": "code",
   "execution_count": 10,
   "id": "bbe9e76b",
   "metadata": {
    "execution": {
     "iopub.execute_input": "2021-08-02T15:03:11.369487Z",
     "iopub.status.busy": "2021-08-02T15:03:11.368246Z",
     "iopub.status.idle": "2021-08-02T15:03:11.547200Z",
     "shell.execute_reply": "2021-08-02T15:03:11.547763Z",
     "shell.execute_reply.started": "2021-07-30T15:18:36.933382Z"
    },
    "papermill": {
     "duration": 0.258701,
     "end_time": "2021-08-02T15:03:11.547945",
     "exception": false,
     "start_time": "2021-08-02T15:03:11.289244",
     "status": "completed"
    },
    "tags": []
   },
   "outputs": [
    {
     "data": {
      "text/plain": [
       "<matplotlib.image.AxesImage at 0x7f3e8c4b2810>"
      ]
     },
     "execution_count": 10,
     "metadata": {},
     "output_type": "execute_result"
    },
    {
     "data": {
      "image/png": "[encoded data removed]",
      "text/plain": [
       "<Figure size 432x288 with 1 Axes>"
      ]
     },
     "metadata": {
      "needs_background": "light"
     },
     "output_type": "display_data"
    }
   ],
   "source": [
    "import matplotlib.pyplot as plt\n",
    "plt.imshow(mel[0].numpy())"
   ]
  },
  {
   "cell_type": "code",
   "execution_count": 11,
   "id": "a9935eb1",
   "metadata": {
    "execution": {
     "iopub.execute_input": "2021-08-02T15:03:11.661730Z",
     "iopub.status.busy": "2021-08-02T15:03:11.660550Z",
     "iopub.status.idle": "2021-08-02T15:03:11.806688Z",
     "shell.execute_reply": "2021-08-02T15:03:11.807246Z",
     "shell.execute_reply.started": "2021-07-30T15:18:56.039099Z"
    },
    "papermill": {
     "duration": 0.216749,
     "end_time": "2021-08-02T15:03:11.807488",
     "exception": false,
     "start_time": "2021-08-02T15:03:11.590739",
     "status": "completed"
    },
    "tags": []
   },
   "outputs": [
    {
     "data": {
      "text/plain": [
       "<matplotlib.image.AxesImage at 0x7f3e8c3b5650>"
      ]
     },
     "execution_count": 11,
     "metadata": {},
     "output_type": "execute_result"
    },
    {
     "data": {
      "image/png": "[encoded data removed]",
      "text/plain": [
       "<Figure size 432x288 with 1 Axes>"
      ]
     },
     "metadata": {
      "needs_background": "light"
     },
     "output_type": "display_data"
    }
   ],
   "source": [
    "plt.imshow(x[:3,:,:].transpose(0,2).numpy())"
   ]
  },
  {
   "cell_type": "markdown",
   "id": "17af9760",
   "metadata": {
    "papermill": {
     "duration": 0.043936,
     "end_time": "2021-08-02T15:03:11.896176",
     "exception": false,
     "start_time": "2021-08-02T15:03:11.852240",
     "status": "completed"
    },
    "tags": []
   },
   "source": [
    "#### 3.训练\n",
    "\n",
    "使用cosine_loss 作为损失函数"
   ]
  },
  {
   "cell_type": "code",
   "execution_count": 12,
   "id": "899ae144",
   "metadata": {
    "execution": {
     "iopub.execute_input": "2021-08-02T15:03:11.990593Z",
     "iopub.status.busy": "2021-08-02T15:03:11.989466Z",
     "iopub.status.idle": "2021-08-02T15:03:11.993113Z",
     "shell.execute_reply": "2021-08-02T15:03:11.992583Z",
     "shell.execute_reply.started": "2021-07-30T15:19:00.674203Z"
    },
    "papermill": {
     "duration": 0.053334,
     "end_time": "2021-08-02T15:03:11.993263",
     "exception": false,
     "start_time": "2021-08-02T15:03:11.939929",
     "status": "completed"
    },
    "tags": []
   },
   "outputs": [],
   "source": [
    "#损失函数的定义\n",
    "logloss = nn.BCELoss() # 交叉熵损失\n",
    "def cosine_loss(a, v, y):#余弦相似度损失\n",
    "    \"\"\"\n",
    "    a: audio_encoder的输出\n",
    "    v: video face_encoder的输出\n",
    "    y: 是否同步的真实值\n",
    "    \"\"\"\n",
    "    d = nn.functional.cosine_similarity(a, v)\n",
    "    loss = logloss(d.unsqueeze(1), y)\n",
    "\n",
    "    return loss"
   ]
  },
  {
   "cell_type": "code",
   "execution_count": 13,
   "id": "dbf7963d",
   "metadata": {
    "execution": {
     "iopub.execute_input": "2021-08-02T15:03:12.104793Z",
     "iopub.status.busy": "2021-08-02T15:03:12.103547Z",
     "iopub.status.idle": "2021-08-02T15:03:12.107020Z",
     "shell.execute_reply": "2021-08-02T15:03:12.106428Z",
     "shell.execute_reply.started": "2021-07-30T15:19:09.309393Z"
    },
    "papermill": {
     "duration": 0.06938,
     "end_time": "2021-08-02T15:03:12.107173",
     "exception": false,
     "start_time": "2021-08-02T15:03:12.037793",
     "status": "completed"
    },
    "tags": []
   },
   "outputs": [],
   "source": [
    "def train(device, model, train_data_loader, test_data_loader, optimizer,\n",
    "          checkpoint_dir=None, checkpoint_interval=None, nepochs=None):\n",
    "\n",
    "    global global_step, global_epoch\n",
    "    resumed_step = global_step\n",
    "    \n",
    "    while global_epoch < nepochs:\n",
    "        running_loss = 0.\n",
    "        prog_bar = tqdm(enumerate(train_data_loader))\n",
    "        for step, (x, mel, y) in prog_bar:\n",
    "            model.train()\n",
    "            optimizer.zero_grad()\n",
    "\n",
    "            #####TODO###########\n",
    "            ####################\n",
    "            #补全模型的训练\n",
    "            x = x.to(device)\n",
    "\n",
    "            mel = mel.to(device)\n",
    "\n",
    "            a, v = model(mel, x)\n",
    "            y = y.to(device)\n",
    "\n",
    "            loss = cosine_loss(a, v, y)\n",
    "            loss.backward()\n",
    "            optimizer.step()\n",
    "                \n",
    "            \n",
    "\n",
    "            global_step += 1\n",
    "            cur_session_steps = global_step - resumed_step\n",
    "            running_loss += loss.item()\n",
    "\n",
    "            if global_step == 1 or global_step % checkpoint_interval == 0:\n",
    "                save_checkpoint(\n",
    "                    model, optimizer, global_step, checkpoint_dir, global_epoch)\n",
    "\n",
    "            if global_step % hparams.syncnet_eval_interval == 0:\n",
    "                with torch.no_grad():\n",
    "                    eval_model(test_data_loader, global_step, device, model, checkpoint_dir)\n",
    "\n",
    "            prog_bar.set_description('Epoch: {} Loss: {}'.format(global_epoch, running_loss / (step + 1)))\n",
    "\n",
    "        global_epoch += 1\n",
    "\n",
    "def eval_model(test_data_loader, global_step, device, model, checkpoint_dir):\n",
    "    #在测试集上进行评估\n",
    "    eval_steps = 1400\n",
    "    print('Evaluating for {} steps'.format(eval_steps))\n",
    "    losses = []\n",
    "    while 1:\n",
    "        for step, (x, mel, y) in enumerate(test_data_loader):\n",
    "\n",
    "            model.eval()\n",
    "\n",
    "            # Transform data to CUDA device\n",
    "            x = x.to(device)\n",
    "\n",
    "            mel = mel.to(device)\n",
    "\n",
    "            a, v = model(mel, x)\n",
    "            y = y.to(device)\n",
    "\n",
    "            loss = cosine_loss(a, v, y)\n",
    "            losses.append(loss.item())\n",
    "\n",
    "            if step > eval_steps: break\n",
    "\n",
    "        averaged_loss = sum(losses) / len(losses)\n",
    "        print(averaged_loss)\n",
    "\n",
    "        return\n",
    "\n",
    "latest_checkpoint_path = ''\n",
    "def save_checkpoint(model, optimizer, step, checkpoint_dir, epoch):\n",
    "    #保存训练的结果 checkpoint\n",
    "    global latest_checkpoint_path\n",
    "    \n",
    "    checkpoint_path = join(\n",
    "        checkpoint_dir, \"checkpoint_step{:09d}.pth\".format(global_step))\n",
    "    optimizer_state = optimizer.state_dict() if hparams.save_optimizer_state else None\n",
    "    torch.save({\n",
    "        \"state_dict\": model.state_dict(),\n",
    "        \"optimizer\": optimizer_state,\n",
    "        \"global_step\": step,\n",
    "        \"global_epoch\": epoch,\n",
    "    }, checkpoint_path)\n",
    "    latest_checkpoint_path = checkpoint_path\n",
    "    print(\"Saved checkpoint:\", checkpoint_path)\n",
    "\n",
    "def _load(checkpoint_path):\n",
    "    if use_cuda:\n",
    "        checkpoint = torch.load(checkpoint_path)\n",
    "    else:\n",
    "        checkpoint = torch.load(checkpoint_path,\n",
    "                                map_location=lambda storage, loc: storage)\n",
    "    return checkpoint\n",
    "\n",
    "def load_checkpoint(path, model, optimizer, reset_optimizer=False):\n",
    "    #读取指定checkpoint的保存信息\n",
    "    global global_step\n",
    "    global global_epoch\n",
    "\n",
    "    print(\"Load checkpoint from: {}\".format(path))\n",
    "    checkpoint = _load(path)\n",
    "    model.load_state_dict(checkpoint[\"state_dict\"])\n",
    "    if not reset_optimizer:\n",
    "        optimizer_state = checkpoint[\"optimizer\"]\n",
    "        if optimizer_state is not None:\n",
    "            print(\"Load optimizer state from {}\".format(path))\n",
    "            optimizer.load_state_dict(checkpoint[\"optimizer\"])\n",
    "    global_step = checkpoint[\"global_step\"]\n",
    "    global_epoch = checkpoint[\"global_epoch\"]\n",
    "\n",
    "    return model"
   ]
  },
  {
   "cell_type": "markdown",
   "id": "3bda5f8e",
   "metadata": {
    "papermill": {
     "duration": 0.044378,
     "end_time": "2021-08-02T15:03:12.196392",
     "exception": false,
     "start_time": "2021-08-02T15:03:12.152014",
     "status": "completed"
    },
    "tags": []
   },
   "source": [
    "**下面开始训练，最终的Loss参考值为0.20左右，此时模型能达到较好的判别效果**"
   ]
  },
  {
   "cell_type": "code",
   "execution_count": 14,
   "id": "7d3fc627",
   "metadata": {
    "execution": {
     "iopub.execute_input": "2021-08-02T15:03:12.295937Z",
     "iopub.status.busy": "2021-08-02T15:03:12.294854Z",
     "iopub.status.idle": "2021-08-02T17:55:52.010734Z",
     "shell.execute_reply": "2021-08-02T17:55:52.011264Z",
     "shell.execute_reply.started": "2021-07-30T15:19:14.2154Z"
    },
    "papermill": {
     "duration": 10359.77037,
     "end_time": "2021-08-02T17:55:52.011482",
     "exception": false,
     "start_time": "2021-08-02T15:03:12.241112",
     "status": "completed"
    },
    "tags": []
   },
   "outputs": [
    {
     "name": "stdout",
     "output_type": "stream",
     "text": [
      "total trainable params 16435072\n",
      "Load checkpoint from: /kaggle/input/wav2lip24epoch/expert_checkpoints/checkpoint_step000060000.pth\n"
     ]
    },
    {
     "name": "stderr",
     "output_type": "stream",
     "text": [
      "Epoch: 20 Loss: 0.4835729799709603: : 2865it [26:26,  1.81it/s]\n",
      "Epoch: 21 Loss: 0.4813423672791759: : 2865it [24:30,  1.95it/s]\n",
      "Epoch: 22 Loss: 0.4767525762319565: : 2865it [25:10,  1.90it/s]\n",
      "Epoch: 23 Loss: 0.47215773716059506: : 1404it [12:02,  1.70it/s]"
     ]
    },
    {
     "name": "stdout",
     "output_type": "stream",
     "text": [
      "Saved checkpoint: /kaggle/working/expert_checkpoints/checkpoint_step000070000.pth\n",
      "Evaluating for 1400 steps\n"
     ]
    },
    {
     "name": "stderr",
     "output_type": "stream",
     "text": [
      "Epoch: 23 Loss: 0.472245811430438: : 1406it [12:32,  6.51s/it]"
     ]
    },
    {
     "name": "stdout",
     "output_type": "stream",
     "text": [
      "0.447623890988967\n"
     ]
    },
    {
     "name": "stderr",
     "output_type": "stream",
     "text": [
      "Epoch: 23 Loss: 0.4746017324830849: : 2865it [24:56,  1.91it/s]\n",
      "Epoch: 24 Loss: 0.4683841840134865: : 2865it [24:07,  1.98it/s]\n",
      "Epoch: 25 Loss: 0.4698803570882188: : 2865it [23:36,  2.02it/s]\n",
      "Epoch: 26 Loss: 0.4691496957299038: : 2809it [22:58,  2.12it/s]"
     ]
    },
    {
     "name": "stdout",
     "output_type": "stream",
     "text": [
      "Saved checkpoint: /kaggle/working/expert_checkpoints/checkpoint_step000080000.pth\n",
      "Evaluating for 1400 steps\n"
     ]
    },
    {
     "name": "stderr",
     "output_type": "stream",
     "text": [
      "Epoch: 26 Loss: 0.46914908886803974: : 2811it [23:25,  5.98s/it]"
     ]
    },
    {
     "name": "stdout",
     "output_type": "stream",
     "text": [
      "0.41562949712662134\n"
     ]
    },
    {
     "name": "stderr",
     "output_type": "stream",
     "text": [
      "Epoch: 26 Loss: 0.46859301660489455: : 2865it [23:38,  2.02it/s]\n"
     ]
    }
   ],
   "source": [
    "checkpoint_dir = \"/kaggle/working/expert_checkpoints/\" #指定存储 checkpoint的位置\n",
    "checkpoint_path = '/kaggle/input/wav2lip24epoch/expert_checkpoints/checkpoint_step000060000.pth'\n",
    "# 指定加载checkpoint的路径，第一次训练时不需要，后续如果想从某个checkpoint恢复训练，可指定。\n",
    "\n",
    "if not os.path.exists(checkpoint_dir): os.mkdir(checkpoint_dir)\n",
    "\n",
    "# Dataset and Dataloader setup\n",
    "train_dataset = Dataset('train')\n",
    "test_dataset = Dataset('val')\n",
    "\n",
    "############TODO#########\n",
    "#####Train Dataloader and Test Dataloader \n",
    "#### 具体的bacthsize等参数，参考 hparams.py文件\n",
    "train_data_loader = data_utils.DataLoader(\n",
    "    train_dataset, batch_size=hparams.batch_size, shuffle=True,\n",
    "    num_workers=hparams.num_workers)\n",
    "\n",
    "test_data_loader = data_utils.DataLoader(\n",
    "    test_dataset, batch_size=hparams.batch_size,\n",
    "    num_workers=8)\n",
    "\n",
    "device = torch.device(\"cuda\" if use_cuda else \"cpu\")\n",
    "\n",
    "# Model\n",
    "#####定义 SynNet模型，并加载到指定的device上\n",
    "model = SyncNet().to(device)\n",
    "print('total trainable params {}'.format(sum(p.numel() for p in model.parameters() if p.requires_grad)))\n",
    "\n",
    "####定义优化器，使用adam，lr参考hparams.py文件\n",
    "optimizer = optim.Adam([p for p in model.parameters() if p.requires_grad],\n",
    "                       lr=1e-5)\n",
    "\n",
    "if checkpoint_path is not None:\n",
    "    load_checkpoint(checkpoint_path, model, optimizer, reset_optimizer=True)\n",
    "\n",
    "train(device, model, train_data_loader, test_data_loader, optimizer,\n",
    "      checkpoint_dir=checkpoint_dir,\n",
    "      checkpoint_interval=hparams.syncnet_checkpoint_interval,\n",
    "      nepochs=27)"
   ]
  },
  {
   "cell_type": "markdown",
   "id": "9bbb81d0",
   "metadata": {
    "papermill": {
     "duration": 13.435605,
     "end_time": "2021-08-02T17:56:19.635821",
     "exception": false,
     "start_time": "2021-08-02T17:56:06.200216",
     "status": "completed"
    },
    "tags": []
   },
   "source": [
    "### 3.2 训练Wav2Lip\n",
    "预训练模型 [weight](https://iiitaphyd-my.sharepoint.com/:u:/g/personal/radrabha_m_research_iiit_ac_in/EdjI7bZlgApMqsVoEUUXpLsBxqXbn5z8VTmoxp55YNDcIA?e=n9ljGW)\n",
    "#### 1. 模型的定义\n",
    "wav2lip模型的生成器首先对输入进行下采样，然后再经过上采样恢复成原来的大小。为了方便，我们对其中重复利用到的模块进行了封装。"
   ]
  },
  {
   "cell_type": "code",
   "execution_count": 15,
   "id": "dfcb2263",
   "metadata": {
    "execution": {
     "iopub.execute_input": "2021-08-02T17:56:47.960224Z",
     "iopub.status.busy": "2021-08-02T17:56:47.959101Z",
     "iopub.status.idle": "2021-08-02T17:56:47.962406Z",
     "shell.execute_reply": "2021-08-02T17:56:47.961887Z",
     "shell.execute_reply.started": "2021-07-25T08:00:59.2366Z"
    },
    "papermill": {
     "duration": 13.875945,
     "end_time": "2021-08-02T17:56:47.962555",
     "exception": false,
     "start_time": "2021-08-02T17:56:34.086610",
     "status": "completed"
    },
    "tags": []
   },
   "outputs": [],
   "source": [
    "class nonorm_Conv2d(nn.Module): #不需要进行 norm的卷积\n",
    "    def __init__(self, cin, cout, kernel_size, stride, padding, residual=False, *args, **kwargs):\n",
    "        super().__init__(*args, **kwargs)\n",
    "        self.conv_block = nn.Sequential(\n",
    "                            nn.Conv2d(cin, cout, kernel_size, stride, padding),\n",
    "                            )\n",
    "        self.act = nn.LeakyReLU(0.01, inplace=True)\n",
    "\n",
    "    def forward(self, x):\n",
    "        out = self.conv_block(x)\n",
    "        return self.act(out)\n",
    "\n",
    "class Conv2dTranspose(nn.Module):# 逆卷积，上采样\n",
    "    def __init__(self, cin, cout, kernel_size, stride, padding, output_padding=0, *args, **kwargs):\n",
    "        super().__init__(*args, **kwargs)\n",
    "        ############TODO###########\n",
    "        ## 完成self.conv_block: 一个逆卷积和batchnorm组成的 Sequential结构\n",
    "        self.conv_block = nn.Sequential(\n",
    "                            nn.ConvTranspose2d(cin, cout, kernel_size, stride, padding, output_padding),\n",
    "                            nn.BatchNorm2d(cout)\n",
    "                            )\n",
    "        self.act = nn.ReLU()\n",
    "\n",
    "    def forward(self, x):\n",
    "        out = self.conv_block(x)\n",
    "        return self.act(out)"
   ]
  },
  {
   "cell_type": "markdown",
   "id": "0c4ba9ce",
   "metadata": {
    "papermill": {
     "duration": 14.540959,
     "end_time": "2021-08-02T17:57:16.146688",
     "exception": false,
     "start_time": "2021-08-02T17:57:01.605729",
     "status": "completed"
    },
    "tags": []
   },
   "source": [
    "**生成器**  \n",
    "由两个encoder: face_encoder和 audio_encoder, 一个decoder：face_decoder组成。face encoder 和 audio encoder 分别对输入的人脸和语音特征进行降维，得到（1，1，512）的特征，并将二者进行拼接送入到 face decoder中去进行上采样，最终得到和输入一样大小的人脸图像。"
   ]
  },
  {
   "cell_type": "code",
   "execution_count": 16,
   "id": "81cd15af",
   "metadata": {
    "execution": {
     "iopub.execute_input": "2021-08-02T17:57:44.098996Z",
     "iopub.status.busy": "2021-08-02T17:57:44.095245Z",
     "iopub.status.idle": "2021-08-02T17:57:44.285370Z",
     "shell.execute_reply": "2021-08-02T17:57:44.284795Z",
     "shell.execute_reply.started": "2021-07-25T08:00:04.850039Z"
    },
    "papermill": {
     "duration": 14.510417,
     "end_time": "2021-08-02T17:57:44.285602",
     "exception": false,
     "start_time": "2021-08-02T17:57:29.775185",
     "status": "completed"
    },
    "tags": []
   },
   "outputs": [],
   "source": [
    "\n",
    "#####################TODO############################\n",
    "#根据下面打印的网络模型图，补全网络的参数\n",
    "\n",
    "class Wav2Lip(nn.Module):\n",
    "    def __init__(self):\n",
    "        super(Wav2Lip, self).__init__()\n",
    "\n",
    "        self.face_encoder_blocks = nn.ModuleList([\n",
    "            nn.Sequential(Conv2d(6, 16, kernel_size=7, stride=1, padding=3)), # 96,96\n",
    "\n",
    "            nn.Sequential(Conv2d(16, 32, kernel_size=3, stride=2, padding=1), # 48,48\n",
    "            Conv2d(32, 32, kernel_size=3, stride=1, padding=1, residual=True),\n",
    "            Conv2d(32, 32, kernel_size=3, stride=1, padding=1, residual=True)),\n",
    "\n",
    "            nn.Sequential(Conv2d(32, 64, kernel_size=3, stride=2, padding=1),    # 24,24\n",
    "            Conv2d(64, 64, kernel_size=3, stride=1, padding=1, residual=True),\n",
    "            Conv2d(64, 64, kernel_size=3, stride=1, padding=1, residual=True),\n",
    "            Conv2d(64, 64, kernel_size=3, stride=1, padding=1, residual=True)),\n",
    "\n",
    "            nn.Sequential(Conv2d(64, 128, kernel_size=3, stride=2, padding=1),   # 12,12\n",
    "            Conv2d(128, 128, kernel_size=3, stride=1, padding=1, residual=True),\n",
    "            Conv2d(128, 128, kernel_size=3, stride=1, padding=1, residual=True)),\n",
    "\n",
    "            nn.Sequential(Conv2d(128, 256, kernel_size=3, stride=2, padding=1),       # 6,6\n",
    "            Conv2d(256, 256, kernel_size=3, stride=1, padding=1, residual=True),\n",
    "            Conv2d(256, 256, kernel_size=3, stride=1, padding=1, residual=True)),\n",
    "\n",
    "            nn.Sequential(Conv2d(256, 512, kernel_size=3, stride=2, padding=1),     # 3,3\n",
    "            Conv2d(512, 512, kernel_size=3, stride=1, padding=1, residual=True),),\n",
    "            \n",
    "            nn.Sequential(Conv2d(512, 512, kernel_size=3, stride=1, padding=0),     # 1, 1\n",
    "            Conv2d(512, 512, kernel_size=1, stride=1, padding=0)),])\n",
    "\n",
    "        self.audio_encoder = nn.Sequential(\n",
    "            Conv2d(1, 32, kernel_size=3, stride=1, padding=1),\n",
    "            Conv2d(32, 32, kernel_size=3, stride=1, padding=1, residual=True),\n",
    "            Conv2d(32, 32, kernel_size=3, stride=1, padding=1, residual=True),\n",
    "\n",
    "            Conv2d(32, 64, kernel_size=3, stride=(3, 1), padding=1),\n",
    "            Conv2d(64, 64, kernel_size=3, stride=1, padding=1, residual=True),\n",
    "            Conv2d(64, 64, kernel_size=3, stride=1, padding=1, residual=True),\n",
    "\n",
    "            Conv2d(64, 128, kernel_size=3, stride=3, padding=1),\n",
    "            Conv2d(128, 128, kernel_size=3, stride=1, padding=1, residual=True),\n",
    "            Conv2d(128, 128, kernel_size=3, stride=1, padding=1, residual=True),\n",
    "\n",
    "            Conv2d(128, 256, kernel_size=3, stride=(3, 2), padding=1),\n",
    "            Conv2d(256, 256, kernel_size=3, stride=1, padding=1, residual=True),\n",
    "\n",
    "            Conv2d(256, 512, kernel_size=3, stride=1, padding=0),\n",
    "            Conv2d(512, 512, kernel_size=1, stride=1, padding=0),)\n",
    "\n",
    "        self.face_decoder_blocks = nn.ModuleList([\n",
    "            nn.Sequential(Conv2d(512, 512, kernel_size=1, stride=1, padding=0),),\n",
    "\n",
    "            nn.Sequential(Conv2dTranspose(1024, 512, kernel_size=3, stride=1, padding=0), # 3,3\n",
    "            Conv2d(512, 512, kernel_size=3, stride=1, padding=1, residual=True),),\n",
    "\n",
    "            nn.Sequential(Conv2dTranspose(1024, 512, kernel_size=3, stride=2, padding=1, output_padding=1),\n",
    "            Conv2d(512, 512, kernel_size=3, stride=1, padding=1, residual=True),\n",
    "            Conv2d(512, 512, kernel_size=3, stride=1, padding=1, residual=True),), # 6, 6\n",
    "\n",
    "            nn.Sequential(Conv2dTranspose(768, 384, kernel_size=3, stride=2, padding=1, output_padding=1),\n",
    "            Conv2d(384, 384, kernel_size=3, stride=1, padding=1, residual=True),\n",
    "            Conv2d(384, 384, kernel_size=3, stride=1, padding=1, residual=True),), # 12, 12\n",
    "\n",
    "            nn.Sequential(Conv2dTranspose(512, 256, kernel_size=3, stride=2, padding=1, output_padding=1),\n",
    "            Conv2d(256, 256, kernel_size=3, stride=1, padding=1, residual=True),\n",
    "            Conv2d(256, 256, kernel_size=3, stride=1, padding=1, residual=True),), # 24, 24\n",
    "\n",
    "            nn.Sequential(Conv2dTranspose(320, 128, kernel_size=3, stride=2, padding=1, output_padding=1), \n",
    "            Conv2d(128, 128, kernel_size=3, stride=1, padding=1, residual=True),\n",
    "            Conv2d(128, 128, kernel_size=3, stride=1, padding=1, residual=True),), # 48, 48\n",
    "\n",
    "            nn.Sequential(Conv2dTranspose(160, 64, kernel_size=3, stride=2, padding=1, output_padding=1),\n",
    "            Conv2d(64, 64, kernel_size=3, stride=1, padding=1, residual=True),\n",
    "            Conv2d(64, 64, kernel_size=3, stride=1, padding=1, residual=True),),]) # 96,96\n",
    "\n",
    "        self.output_block = nn.Sequential(Conv2d(80, 32, kernel_size=3, stride=1, padding=1),\n",
    "            nn.Conv2d(32, 3, kernel_size=1, stride=1, padding=0),\n",
    "            nn.Sigmoid()) \n",
    "\n",
    "    def forward(self, audio_sequences, face_sequences):\n",
    "        # audio_sequences = (B, T, 1, 80, 16)\n",
    "        B = audio_sequences.size(0)\n",
    "\n",
    "        input_dim_size = len(face_sequences.size())\n",
    "        if input_dim_size > 4:\n",
    "            audio_sequences = torch.cat([audio_sequences[:, i] for i in range(audio_sequences.size(1))], dim=0)\n",
    "            face_sequences = torch.cat([face_sequences[:, :, i] for i in range(face_sequences.size(2))], dim=0)\n",
    "\n",
    "        audio_embedding = self.audio_encoder(audio_sequences) # B, 512, 1, 1\n",
    "\n",
    "        feats = []\n",
    "        x = face_sequences\n",
    "        for f in self.face_encoder_blocks:\n",
    "            x = f(x)\n",
    "            feats.append(x)\n",
    "\n",
    "        x = audio_embedding\n",
    "        for f in self.face_decoder_blocks:\n",
    "            x = f(x)\n",
    "            try:\n",
    "                x = torch.cat((x, feats[-1]), dim=1)\n",
    "            except Exception as e:\n",
    "                print(x.size())\n",
    "                print(feats[-1].size())\n",
    "                raise e\n",
    "            \n",
    "            feats.pop()\n",
    "\n",
    "        x = self.output_block(x)\n",
    "\n",
    "        if input_dim_size > 4:\n",
    "            x = torch.split(x, B, dim=0) # [(B, C, H, W)]\n",
    "            outputs = torch.stack(x, dim=2) # (B, C, T, H, W)\n",
    "\n",
    "        else:\n",
    "            outputs = x\n",
    "            \n",
    "        return outputs"
   ]
  },
  {
   "cell_type": "markdown",
   "id": "67a3c21c",
   "metadata": {
    "papermill": {
     "duration": 14.597044,
     "end_time": "2021-08-02T17:58:12.485202",
     "exception": false,
     "start_time": "2021-08-02T17:57:57.888158",
     "status": "completed"
    },
    "tags": []
   },
   "source": [
    "**判别器**  \n",
    "判别器也是由一系列的卷积神经网络组成，输入一张人脸图片，利用face encoder对其进行降维到512维。"
   ]
  },
  {
   "cell_type": "code",
   "execution_count": 17,
   "id": "45fdbec3",
   "metadata": {
    "execution": {
     "iopub.execute_input": "2021-08-02T17:58:39.292009Z",
     "iopub.status.busy": "2021-08-02T17:58:39.290753Z",
     "iopub.status.idle": "2021-08-02T17:58:39.294229Z",
     "shell.execute_reply": "2021-08-02T17:58:39.293660Z",
     "shell.execute_reply.started": "2021-07-25T08:00:08.961755Z"
    },
    "papermill": {
     "duration": 13.426215,
     "end_time": "2021-08-02T17:58:39.294408",
     "exception": false,
     "start_time": "2021-08-02T17:58:25.868193",
     "status": "completed"
    },
    "tags": []
   },
   "outputs": [],
   "source": [
    "\n",
    "###########TODO##################\n",
    "####补全判别器模型\n",
    "class Wav2Lip_disc_qual(nn.Module):\n",
    "    def __init__(self):\n",
    "        super(Wav2Lip_disc_qual, self).__init__()\n",
    "\n",
    "        self.face_encoder_blocks = nn.ModuleList([\n",
    "            nn.Sequential(nonorm_Conv2d(3, 32, kernel_size=7, stride=1, padding=3)), # 48,96\n",
    "\n",
    "            nn.Sequential(nonorm_Conv2d(32, 64, kernel_size=5, stride=(1, 2), padding=2), # 48,48\n",
    "            nonorm_Conv2d(64, 64, kernel_size=5, stride=1, padding=2)),\n",
    "\n",
    "            nn.Sequential(nonorm_Conv2d(64, 128, kernel_size=5, stride=2, padding=2),    # 24,24\n",
    "            nonorm_Conv2d(128, 128, kernel_size=5, stride=1, padding=2)),\n",
    "\n",
    "            nn.Sequential(nonorm_Conv2d(128, 256, kernel_size=5, stride=2, padding=2),   # 12,12\n",
    "            nonorm_Conv2d(256, 256, kernel_size=5, stride=1, padding=2)),\n",
    "\n",
    "            nn.Sequential(nonorm_Conv2d(256, 512, kernel_size=3, stride=2, padding=1),       # 6,6\n",
    "            nonorm_Conv2d(512, 512, kernel_size=3, stride=1, padding=1)),\n",
    "\n",
    "            nn.Sequential(nonorm_Conv2d(512, 512, kernel_size=3, stride=2, padding=1),     # 3,3\n",
    "            nonorm_Conv2d(512, 512, kernel_size=3, stride=1, padding=1),),\n",
    "            \n",
    "            nn.Sequential(nonorm_Conv2d(512, 512, kernel_size=3, stride=1, padding=0),     # 1, 1\n",
    "            nonorm_Conv2d(512, 512, kernel_size=1, stride=1, padding=0)),])\n",
    "\n",
    "        self.binary_pred = nn.Sequential(nn.Conv2d(512, 1, kernel_size=1, stride=1, padding=0), nn.Sigmoid())\n",
    "        self.label_noise = .0\n",
    "\n",
    "    def get_lower_half(self, face_sequences):\n",
    "        return face_sequences[:, :, face_sequences.size(2)//2:]\n",
    "\n",
    "    def to_2d(self, face_sequences):\n",
    "        B = face_sequences.size(0)\n",
    "        face_sequences = torch.cat([face_sequences[:, :, i] for i in range(face_sequences.size(2))], dim=0)\n",
    "        return face_sequences\n",
    "\n",
    "    def perceptual_forward(self, false_face_sequences):\n",
    "        false_face_sequences = self.to_2d(false_face_sequences)\n",
    "        false_face_sequences = self.get_lower_half(false_face_sequences)\n",
    "\n",
    "        false_feats = false_face_sequences\n",
    "        for f in self.face_encoder_blocks:\n",
    "            false_feats = f(false_feats)\n",
    "\n",
    "        false_pred_loss = F.binary_cross_entropy(self.binary_pred(false_feats).view(len(false_feats), -1), \n",
    "                                        torch.ones((len(false_feats), 1)).cuda())\n",
    "\n",
    "        return false_pred_loss\n",
    "\n",
    "    def forward(self, face_sequences):\n",
    "        face_sequences = self.to_2d(face_sequences)\n",
    "        face_sequences = self.get_lower_half(face_sequences)\n",
    "\n",
    "        x = face_sequences\n",
    "        for f in self.face_encoder_blocks:\n",
    "            x = f(x)\n",
    "\n",
    "        return self.binary_pred(x).view(len(x), -1)"
   ]
  },
  {
   "cell_type": "markdown",
   "id": "660366b3",
   "metadata": {
    "papermill": {
     "duration": 13.853732,
     "end_time": "2021-08-02T17:59:07.598712",
     "exception": false,
     "start_time": "2021-08-02T17:58:53.744980",
     "status": "completed"
    },
    "tags": []
   },
   "source": [
    "#### 2. 数据集的定义  \n",
    "在训练时，会用到4个数据：\n",
    "1. x:输入的图片\n",
    "2. indiv_mels: 每一张图片所对应语音的mel-spectrogram特征\n",
    "3. mel: 所有帧对应的200ms的语音mel-spectrogram，用于SyncNet进行唇音同步损失的计算\n",
    "4. y:真实的与语音对应的，唇音同步的图片。\n"
   ]
  },
  {
   "cell_type": "code",
   "execution_count": 18,
   "id": "47f17ba5",
   "metadata": {
    "execution": {
     "iopub.execute_input": "2021-08-02T17:59:35.059342Z",
     "iopub.status.busy": "2021-08-02T17:59:35.058328Z",
     "iopub.status.idle": "2021-08-02T17:59:35.062246Z",
     "shell.execute_reply": "2021-08-02T17:59:35.062838Z",
     "shell.execute_reply.started": "2021-07-25T08:00:11.621386Z"
    },
    "papermill": {
     "duration": 13.395158,
     "end_time": "2021-08-02T17:59:35.063001",
     "exception": false,
     "start_time": "2021-08-02T17:59:21.667843",
     "status": "completed"
    },
    "tags": []
   },
   "outputs": [
    {
     "name": "stdout",
     "output_type": "stream",
     "text": [
      "use_cuda: True\n"
     ]
    }
   ],
   "source": [
    "global_step = 0\n",
    "global_epoch = 0\n",
    "use_cuda = torch.cuda.is_available()\n",
    "print('use_cuda: {}'.format(use_cuda))\n",
    "\n",
    "syncnet_T = 5\n",
    "syncnet_mel_step_size = 16\n",
    "\n",
    "class Dataset(object):\n",
    "    def __init__(self, split):\n",
    "        self.all_videos = get_image_list(data_root, split)\n",
    "\n",
    "    def get_frame_id(self, frame):\n",
    "        return int(basename(frame).split('.')[0])\n",
    "\n",
    "    def get_window(self, start_frame):\n",
    "        start_id = self.get_frame_id(start_frame)\n",
    "        vidname = dirname(start_frame)\n",
    "\n",
    "        window_fnames = []\n",
    "        for frame_id in range(start_id, start_id + syncnet_T):\n",
    "            frame = join(vidname, '{}.jpg'.format(frame_id))\n",
    "            if not isfile(frame):\n",
    "                return None\n",
    "            window_fnames.append(frame)\n",
    "        return window_fnames\n",
    "\n",
    "    def read_window(self, window_fnames):\n",
    "        if window_fnames is None: return None\n",
    "        window = []\n",
    "        for fname in window_fnames:\n",
    "            img = cv2.imread(fname)\n",
    "            if img is None:\n",
    "                return None\n",
    "            try:\n",
    "                img = cv2.resize(img, (hparams.img_size, hparams.img_size))\n",
    "            except Exception as e:\n",
    "                return None\n",
    "\n",
    "            window.append(img)\n",
    "\n",
    "        return window\n",
    "\n",
    "    def crop_audio_window(self, spec, start_frame):\n",
    "        if type(start_frame) == int:\n",
    "            start_frame_num = start_frame\n",
    "        else:\n",
    "            start_frame_num = self.get_frame_id(start_frame) # 0-indexing ---> 1-indexing\n",
    "        start_idx = int(80. * (start_frame_num / float(hparams.fps)))\n",
    "        \n",
    "        end_idx = start_idx + syncnet_mel_step_size\n",
    "\n",
    "        return spec[start_idx : end_idx, :]\n",
    "\n",
    "    def get_segmented_mels(self, spec, start_frame):\n",
    "        mels = []\n",
    "        assert syncnet_T == 5\n",
    "        start_frame_num = self.get_frame_id(start_frame) + 1 # 0-indexing ---> 1-indexing\n",
    "        if start_frame_num - 2 < 0: return None\n",
    "        for i in range(start_frame_num, start_frame_num + syncnet_T):\n",
    "            m = self.crop_audio_window(spec, i - 2)\n",
    "            if m.shape[0] != syncnet_mel_step_size:\n",
    "                return None\n",
    "            mels.append(m.T)\n",
    "\n",
    "        mels = np.asarray(mels)\n",
    "\n",
    "        return mels\n",
    "\n",
    "    def prepare_window(self, window):\n",
    "        # 3 x T x H x W\n",
    "        x = np.asarray(window) / 255.\n",
    "        x = np.transpose(x, (3, 0, 1, 2))\n",
    "\n",
    "        return x\n",
    "\n",
    "    def __len__(self):\n",
    "        return len(self.all_videos)\n",
    "\n",
    "    def __getitem__(self, idx):\n",
    "        while 1:\n",
    "            idx = random.randint(0, len(self.all_videos) - 1) #随机选择一个视频id\n",
    "            vidname = self.all_videos[idx]\n",
    "            img_names = list(glob(join(vidname, '*.jpg')))\n",
    "            if len(img_names) <= 3 * syncnet_T:\n",
    "                continue\n",
    "            \n",
    "            img_name = random.choice(img_names)\n",
    "            wrong_img_name = random.choice(img_names)#随机选择帧\n",
    "            while wrong_img_name == img_name:\n",
    "                wrong_img_name = random.choice(img_names)\n",
    "\n",
    "            window_fnames = self.get_window(img_name)\n",
    "            wrong_window_fnames = self.get_window(wrong_img_name)\n",
    "            if window_fnames is None or wrong_window_fnames is None:\n",
    "                continue\n",
    "\n",
    "            window = self.read_window(window_fnames)\n",
    "            if window is None:\n",
    "                continue\n",
    "\n",
    "            wrong_window = self.read_window(wrong_window_fnames)\n",
    "            if wrong_window is None:\n",
    "                continue\n",
    "\n",
    "            try:\n",
    "                #读取音频\n",
    "                wavpath = join(vidname, \"audio.wav\")\n",
    "                wav = audio.load_wav(wavpath, hparams.sample_rate)\n",
    "                #提取完整mel-spectrogram\n",
    "                orig_mel = audio.melspectrogram(wav).T\n",
    "            except Exception as e:\n",
    "                continue\n",
    "            # 分割 mel-spectrogram\n",
    "            mel = self.crop_audio_window(orig_mel.copy(), img_name)\n",
    "            \n",
    "            if (mel.shape[0] != syncnet_mel_step_size):\n",
    "                continue\n",
    "\n",
    "            indiv_mels = self.get_segmented_mels(orig_mel.copy(), img_name)\n",
    "            if indiv_mels is None: continue\n",
    "\n",
    "            window = self.prepare_window(window)\n",
    "            y = window.copy()\n",
    "            window[:, :, window.shape[2]//2:] = 0.\n",
    "\n",
    "            wrong_window = self.prepare_window(wrong_window)\n",
    "            x = np.concatenate([window, wrong_window], axis=0)\n",
    "\n",
    "            x = torch.FloatTensor(x)\n",
    "            mel = torch.FloatTensor(mel.T).unsqueeze(0)\n",
    "            indiv_mels = torch.FloatTensor(indiv_mels).unsqueeze(1)\n",
    "            y = torch.FloatTensor(y)\n",
    "            return x, indiv_mels, mel, y"
   ]
  },
  {
   "cell_type": "code",
   "execution_count": 19,
   "id": "e86c7554",
   "metadata": {
    "execution": {
     "iopub.execute_input": "2021-08-02T18:00:03.159945Z",
     "iopub.status.busy": "2021-08-02T18:00:03.159146Z",
     "iopub.status.idle": "2021-08-02T18:00:03.372457Z",
     "shell.execute_reply": "2021-08-02T18:00:03.373748Z",
     "shell.execute_reply.started": "2021-07-25T08:00:15.736819Z"
    },
    "papermill": {
     "duration": 14.328526,
     "end_time": "2021-08-02T18:00:03.374059",
     "exception": false,
     "start_time": "2021-08-02T17:59:49.045533",
     "status": "completed"
    },
    "tags": []
   },
   "outputs": [
    {
     "name": "stdout",
     "output_type": "stream",
     "text": [
      "torch.Size([6, 5, 96, 96])\n",
      "torch.Size([5, 1, 80, 16])\n",
      "torch.Size([1, 80, 16])\n",
      "torch.Size([3, 5, 96, 96])\n"
     ]
    }
   ],
   "source": [
    "ds=Dataset(\"train\")\n",
    "x, indiv_mels, mel, y=ds[0]\n",
    "print(x.shape)\n",
    "print(indiv_mels.shape)\n",
    "print(mel.shape)\n",
    "print(y.shape)"
   ]
  },
  {
   "cell_type": "markdown",
   "id": "4c7633b6",
   "metadata": {
    "papermill": {
     "duration": 13.845496,
     "end_time": "2021-08-02T18:00:30.922672",
     "exception": false,
     "start_time": "2021-08-02T18:00:17.077176",
     "status": "completed"
    },
    "tags": []
   },
   "source": [
    "#### 3. 训练"
   ]
  },
  {
   "cell_type": "code",
   "execution_count": 20,
   "id": "1a093d2b",
   "metadata": {
    "execution": {
     "iopub.execute_input": "2021-08-02T18:00:59.167079Z",
     "iopub.status.busy": "2021-08-02T18:00:59.146198Z",
     "iopub.status.idle": "2021-08-02T18:00:59.375617Z",
     "shell.execute_reply": "2021-08-02T18:00:59.374722Z",
     "shell.execute_reply.started": "2021-07-25T08:00:17.791703Z"
    },
    "papermill": {
     "duration": 13.857818,
     "end_time": "2021-08-02T18:00:59.375763",
     "exception": false,
     "start_time": "2021-08-02T18:00:45.517945",
     "status": "completed"
    },
    "tags": []
   },
   "outputs": [],
   "source": [
    "#bce 交叉墒loss\n",
    "logloss = nn.BCELoss()\n",
    "def cosine_loss(a, v, y):\n",
    "    d = nn.functional.cosine_similarity(a, v)\n",
    "    loss = logloss(d.unsqueeze(1), y)\n",
    "\n",
    "    return loss\n",
    "\n",
    "device = torch.device(\"cuda\" if use_cuda else \"cpu\")\n",
    "syncnet = SyncNet().to(device) # 定义syncnet 模型\n",
    "for p in syncnet.parameters():\n",
    "    p.requires_grad = False\n",
    "\n",
    "    \n",
    "#####L1 loss    \n",
    "recon_loss = nn.L1Loss()\n",
    "def get_sync_loss(mel, g):\n",
    "    g = g[:, :, :, g.size(3)//2:]\n",
    "    g = torch.cat([g[:, :, i] for i in range(syncnet_T)], dim=1)\n",
    "    # B, 3 * T, H//2, W\n",
    "    a, v = syncnet(mel, g)\n",
    "    y = torch.ones(g.size(0), 1).float().to(device)\n",
    "    return cosine_loss(a, v, y)\n",
    "\n",
    "def train(device, model, disc, train_data_loader, test_data_loader, optimizer, disc_optimizer,\n",
    "          checkpoint_dir=None, checkpoint_interval=None, nepochs=None):\n",
    "    global global_step, global_epoch\n",
    "    resumed_step = global_step\n",
    "\n",
    "    while global_epoch < nepochs:\n",
    "        print('Starting Epoch: {}'.format(global_epoch))\n",
    "        running_sync_loss, running_l1_loss, disc_loss, running_perceptual_loss = 0., 0., 0., 0.\n",
    "        running_disc_real_loss, running_disc_fake_loss = 0., 0.\n",
    "        prog_bar = tqdm(enumerate(train_data_loader))\n",
    "        for step, (x, indiv_mels, mel, gt) in prog_bar:\n",
    "            disc.train()\n",
    "            model.train()\n",
    "\n",
    "            x = x.to(device)\n",
    "            mel = mel.to(device)\n",
    "            indiv_mels = indiv_mels.to(device)\n",
    "            gt = gt.to(device)\n",
    "\n",
    "            ### Train generator now. Remove ALL grads. \n",
    "            #训练生成器\n",
    "            optimizer.zero_grad()\n",
    "            disc_optimizer.zero_grad()\n",
    "\n",
    "            g = model(indiv_mels, x)#得到生成的结果\n",
    "\n",
    "            if hparams.syncnet_wt > 0.:\n",
    "                sync_loss = get_sync_loss(mel, g)# 从预训练的expert 模型中获得唇音同步的损失\n",
    "            else:\n",
    "                sync_loss = 0.\n",
    "\n",
    "            if hparams.disc_wt > 0.:\n",
    "                perceptual_loss = disc.perceptual_forward(g)#判别器的感知损失\n",
    "            else:\n",
    "                perceptual_loss = 0.\n",
    "\n",
    "            l1loss = recon_loss(g, gt)#l1 loss，重建损失\n",
    "            \n",
    "            #最终的损失函数\n",
    "            loss = hparams.syncnet_wt * sync_loss + hparams.disc_wt * perceptual_loss + \\\n",
    "                                    (1. - hparams.syncnet_wt - hparams.disc_wt) * l1loss\n",
    "\n",
    "            loss.backward()\n",
    "            optimizer.step()\n",
    "\n",
    "            ### Remove all gradients before Training disc\n",
    "            # 训练判别器\n",
    "            disc_optimizer.zero_grad()\n",
    "\n",
    "            pred = disc(gt)\n",
    "            disc_real_loss = F.binary_cross_entropy(pred, torch.ones((len(pred), 1)).to(device))\n",
    "            disc_real_loss.backward()\n",
    "\n",
    "            pred = disc(g.detach())\n",
    "            disc_fake_loss = F.binary_cross_entropy(pred, torch.zeros((len(pred), 1)).to(device))\n",
    "            disc_fake_loss.backward()\n",
    "\n",
    "            disc_optimizer.step()\n",
    "\n",
    "            running_disc_real_loss += disc_real_loss.item()\n",
    "            running_disc_fake_loss += disc_fake_loss.item()\n",
    "\n",
    "            # Logs\n",
    "            global_step += 1\n",
    "            cur_session_steps = global_step - resumed_step\n",
    "\n",
    "            running_l1_loss += l1loss.item()\n",
    "            if hparams.syncnet_wt > 0.:\n",
    "                running_sync_loss += sync_loss.item()\n",
    "            else:\n",
    "                running_sync_loss += 0.\n",
    "\n",
    "            if hparams.disc_wt > 0.:\n",
    "                running_perceptual_loss += perceptual_loss.item()\n",
    "            else:\n",
    "                running_perceptual_loss += 0.\n",
    "\n",
    "            if global_step == 1 or global_step % checkpoint_interval == 0:\n",
    "                save_checkpoint(\n",
    "                    model, optimizer, global_step, checkpoint_dir, global_epoch)\n",
    "                save_checkpoint(disc, disc_optimizer, global_step, checkpoint_dir, global_epoch, prefix='disc_')\n",
    "\n",
    "\n",
    "            if global_step % hparams.eval_interval == 0:\n",
    "                with torch.no_grad():\n",
    "                    average_sync_loss = eval_model(test_data_loader, global_step, device, model, disc)\n",
    "\n",
    "                    if average_sync_loss < .75:\n",
    "                        hparams.set_hparam('syncnet_wt', 0.03)\n",
    "\n",
    "            prog_bar.set_description('L1: {}, Sync: {}, Percep: {} | Fake: {}, Real: {}'.format(running_l1_loss / (step + 1),\n",
    "                                                                                        running_sync_loss / (step + 1),\n",
    "                                                                                        running_perceptual_loss / (step + 1),\n",
    "                                                                                        running_disc_fake_loss / (step + 1),\n",
    "                                                                                        running_disc_real_loss / (step + 1)))\n",
    "\n",
    "        global_epoch += 1\n",
    "\n",
    "def eval_model(test_data_loader, global_step, device, model, disc):\n",
    "    eval_steps = 300\n",
    "    print('Evaluating for {} steps'.format(eval_steps))\n",
    "    running_sync_loss, running_l1_loss, running_disc_real_loss, running_disc_fake_loss, running_perceptual_loss = [], [], [], [], []\n",
    "    while 1:\n",
    "        for step, (x, indiv_mels, mel, gt) in enumerate((test_data_loader)):\n",
    "            model.eval()\n",
    "            disc.eval()\n",
    "\n",
    "            x = x.to(device)\n",
    "            mel = mel.to(device)\n",
    "            indiv_mels = indiv_mels.to(device)\n",
    "            gt = gt.to(device)\n",
    "\n",
    "            pred = disc(gt)\n",
    "            disc_real_loss = F.binary_cross_entropy(pred, torch.ones((len(pred), 1)).to(device))\n",
    "\n",
    "            g = model(indiv_mels, x)\n",
    "            pred = disc(g)\n",
    "            disc_fake_loss = F.binary_cross_entropy(pred, torch.zeros((len(pred), 1)).to(device))\n",
    "\n",
    "            running_disc_real_loss.append(disc_real_loss.item())\n",
    "            running_disc_fake_loss.append(disc_fake_loss.item())\n",
    "\n",
    "            sync_loss = get_sync_loss(mel, g)\n",
    "            \n",
    "            if hparams.disc_wt > 0.:\n",
    "                perceptual_loss = disc.perceptual_forward(g)\n",
    "            else:\n",
    "                perceptual_loss = 0.\n",
    "\n",
    "            l1loss = recon_loss(g, gt)\n",
    "\n",
    "            loss = hparams.syncnet_wt * sync_loss + hparams.disc_wt * perceptual_loss + \\\n",
    "                                    (1. - hparams.syncnet_wt - hparams.disc_wt) * l1loss\n",
    "\n",
    "            running_l1_loss.append(l1loss.item())\n",
    "            running_sync_loss.append(sync_loss.item())\n",
    "            \n",
    "            if hparams.disc_wt > 0.:\n",
    "                running_perceptual_loss.append(perceptual_loss.item())\n",
    "            else:\n",
    "                running_perceptual_loss.append(0.)\n",
    "\n",
    "            if step > eval_steps: break\n",
    "\n",
    "        print('L1: {}, Sync: {}, Percep: {} | Fake: {}, Real: {}'.format(sum(running_l1_loss) / len(running_l1_loss),\n",
    "                                                            sum(running_sync_loss) / len(running_sync_loss),\n",
    "                                                            sum(running_perceptual_loss) / len(running_perceptual_loss),\n",
    "                                                            sum(running_disc_fake_loss) / len(running_disc_fake_loss),\n",
    "                                                             sum(running_disc_real_loss) / len(running_disc_real_loss)))\n",
    "        return sum(running_sync_loss) / len(running_sync_loss)\n",
    "\n",
    "latest_wav2lip_checkpoint = ''\n",
    "def save_checkpoint(model, optimizer, step, checkpoint_dir, epoch, prefix=''):\n",
    "    global latest_wav2lip_checkpoint\n",
    "    checkpoint_path = join(\n",
    "        checkpoint_dir, \"{}checkpoint_step{:09d}.pth\".format(prefix, global_step))\n",
    "    if 'disc' not in checkpoint_path:\n",
    "        latest_wav2lip_checkpoint = checkpoint_path\n",
    "    optimizer_state = optimizer.state_dict() if hparams.save_optimizer_state else None\n",
    "    torch.save({\n",
    "        \"state_dict\": model.state_dict(),\n",
    "        \"optimizer\": optimizer_state,\n",
    "        \"global_step\": step,\n",
    "        \"global_epoch\": epoch,\n",
    "    }, checkpoint_path)\n",
    "    print(\"Saved checkpoint:\", checkpoint_path)\n",
    "\n",
    "def _load(checkpoint_path):\n",
    "    if use_cuda:\n",
    "        checkpoint = torch.load(checkpoint_path)\n",
    "    else:\n",
    "        checkpoint = torch.load(checkpoint_path,\n",
    "                                map_location=lambda storage, loc: storage)\n",
    "    return checkpoint\n",
    "\n",
    "\n",
    "def load_checkpoint(path, model, optimizer, reset_optimizer=False, overwrite_global_states=True):\n",
    "    global global_step\n",
    "    global global_epoch\n",
    "\n",
    "    print(\"Load checkpoint from: {}\".format(path))\n",
    "    checkpoint = _load(path)\n",
    "    s = checkpoint[\"state_dict\"]\n",
    "    new_s = {}\n",
    "    for k, v in s.items():\n",
    "        new_s[k.replace('module.', '')] = v\n",
    "    model.load_state_dict(new_s)\n",
    "    if not reset_optimizer:\n",
    "        optimizer_state = checkpoint[\"optimizer\"]\n",
    "        if optimizer_state is not None:\n",
    "            print(\"Load optimizer state from {}\".format(path))\n",
    "            optimizer.load_state_dict(checkpoint[\"optimizer\"])\n",
    "    if overwrite_global_states:\n",
    "        global_step = checkpoint[\"global_step\"]\n",
    "        global_epoch = checkpoint[\"global_epoch\"]\n",
    "\n",
    "    return model"
   ]
  },
  {
   "cell_type": "code",
   "execution_count": 21,
   "id": "0f07edeb",
   "metadata": {
    "execution": {
     "iopub.execute_input": "2021-08-02T18:01:27.182753Z",
     "iopub.status.busy": "2021-08-02T18:01:27.181977Z",
     "iopub.status.idle": "2021-08-02T23:19:43.358471Z",
     "shell.execute_reply": "2021-08-02T23:19:43.357908Z",
     "shell.execute_reply.started": "2021-07-25T08:01:08.453052Z"
    },
    "papermill": {
     "duration": 19110.49203,
     "end_time": "2021-08-02T23:19:43.358658",
     "exception": false,
     "start_time": "2021-08-02T18:01:12.866628",
     "status": "completed"
    },
    "tags": []
   },
   "outputs": [
    {
     "name": "stdout",
     "output_type": "stream",
     "text": [
      "total trainable params 36298035\n",
      "total DISC trainable params 14113793\n",
      "Load checkpoint from: /kaggle/working/expert_checkpoints/checkpoint_step000080000.pth\n",
      "Starting Epoch: 0\n"
     ]
    },
    {
     "name": "stderr",
     "output_type": "stream",
     "text": [
      "0it [00:00, ?it/s]"
     ]
    },
    {
     "name": "stdout",
     "output_type": "stream",
     "text": [
      "Saved checkpoint: /kaggle/working/wav2lip_checkpoints/checkpoint_step000000001.pth\n"
     ]
    },
    {
     "name": "stderr",
     "output_type": "stream",
     "text": [
      "L1: 0.182265505194664, Sync: 0.0, Percep: 0.6852962374687195 | Fake: 0.7010602951049805, Real: 0.6852961778640747: : 1it [00:17, 17.39s/it]"
     ]
    },
    {
     "name": "stdout",
     "output_type": "stream",
     "text": [
      "Saved checkpoint: /kaggle/working/wav2lip_checkpoints/disc_checkpoint_step000000001.pth\n"
     ]
    },
    {
     "name": "stderr",
     "output_type": "stream",
     "text": [
      "L1: 0.046039844079375475, Sync: 0.0, Percep: 0.7006118735353776 | Fake: 0.6912129632985613, Real: 0.694671366006188: : 2865it [1:02:50,  1.32s/it]"
     ]
    },
    {
     "name": "stdout",
     "output_type": "stream",
     "text": [
      "Starting Epoch: 1\n"
     ]
    },
    {
     "name": "stderr",
     "output_type": "stream",
     "text": [
      "\n",
      "L1: 0.040241426927273845, Sync: 0.0, Percep: 0.6867115430867494 | Fake: 0.703810100679967, Real: 0.6803412684308949: : 134it [03:08,  1.32s/it]"
     ]
    },
    {
     "name": "stdout",
     "output_type": "stream",
     "text": [
      "Saved checkpoint: /kaggle/working/wav2lip_checkpoints/checkpoint_step000003000.pth\n",
      "Saved checkpoint: /kaggle/working/wav2lip_checkpoints/disc_checkpoint_step000003000.pth\n",
      "Evaluating for 300 steps\n"
     ]
    },
    {
     "name": "stderr",
     "output_type": "stream",
     "text": [
      "L1: 0.04018904253564499, Sync: 0.0, Percep: 0.6864057969163966 | Fake: 0.7041104413844921, Real: 0.6801264032169625: : 135it [04:04, 17.45s/it]"
     ]
    },
    {
     "name": "stdout",
     "output_type": "stream",
     "text": [
      "L1: 0.03741014929597869, Sync: 1.4850089260760475, Percep: 0.6467777455554289 | Fake: 0.7423368034993901, Real: 0.651926989941036\n"
     ]
    },
    {
     "name": "stderr",
     "output_type": "stream",
     "text": [
      "L1: 0.03900269641562074, Sync: 0.0, Percep: 0.6961903256570585 | Fake: 0.6939434029460994, Real: 0.6915473134879406: : 2865it [1:03:52,  1.34s/it]"
     ]
    },
    {
     "name": "stdout",
     "output_type": "stream",
     "text": [
      "Starting Epoch: 2\n"
     ]
    },
    {
     "name": "stderr",
     "output_type": "stream",
     "text": [
      "\n",
      "L1: 0.03545909536289238, Sync: 0.0, Percep: 0.6940031975618526 | Fake: 0.6933492843103232, Real: 0.6925399040865632: : 269it [06:00,  1.29s/it]"
     ]
    },
    {
     "name": "stdout",
     "output_type": "stream",
     "text": [
      "Saved checkpoint: /kaggle/working/wav2lip_checkpoints/checkpoint_step000006000.pth\n",
      "Saved checkpoint: /kaggle/working/wav2lip_checkpoints/disc_checkpoint_step000006000.pth\n",
      "Evaluating for 300 steps\n"
     ]
    },
    {
     "name": "stderr",
     "output_type": "stream",
     "text": [
      "L1: 0.03545024025909327, Sync: 0.0, Percep: 0.6940377164770055 | Fake: 0.6933112680912018, Real: 0.6925840098548819: : 270it [06:52, 16.77s/it]"
     ]
    },
    {
     "name": "stdout",
     "output_type": "stream",
     "text": [
      "L1: 0.031579675563775444, Sync: 0.9123614119256244, Percep: 0.7057484519832274 | Fake: 0.6807170221034218, Real: 0.7051262636395061\n"
     ]
    },
    {
     "name": "stderr",
     "output_type": "stream",
     "text": [
      "L1: 0.03530552504717471, Sync: 0.0, Percep: 0.6969361525971643 | Fake: 0.6927072046991002, Real: 0.6919782925754734: : 2865it [1:03:34,  1.33s/it]"
     ]
    },
    {
     "name": "stdout",
     "output_type": "stream",
     "text": [
      "Starting Epoch: 3\n"
     ]
    },
    {
     "name": "stderr",
     "output_type": "stream",
     "text": [
      "\n",
      "L1: 0.03414407477594248, Sync: 0.0, Percep: 0.6948496932440466 | Fake: 0.6945914035976524, Real: 0.6901939750307857: : 404it [09:00,  1.47s/it]"
     ]
    },
    {
     "name": "stdout",
     "output_type": "stream",
     "text": [
      "Saved checkpoint: /kaggle/working/wav2lip_checkpoints/checkpoint_step000009000.pth\n",
      "Saved checkpoint: /kaggle/working/wav2lip_checkpoints/disc_checkpoint_step000009000.pth\n",
      "Evaluating for 300 steps\n"
     ]
    },
    {
     "name": "stderr",
     "output_type": "stream",
     "text": [
      "L1: 0.03419261850692608, Sync: 0.0, Percep: 0.6947742740313212 | Fake: 0.694661506605737, Real: 0.6901227241680946: : 405it [09:53, 17.03s/it]"
     ]
    },
    {
     "name": "stdout",
     "output_type": "stream",
     "text": [
      "L1: 0.02947066765388145, Sync: 0.9377104578649297, Percep: 0.6579884185510523 | Fake: 0.7296747687984916, Real: 0.6585180066964206\n"
     ]
    },
    {
     "name": "stderr",
     "output_type": "stream",
     "text": [
      "L1: 0.03367848934225387, Sync: 0.0, Percep: 0.6942483557768517 | Fake: 0.6947852298643369, Real: 0.6895289202427157: : 2865it [1:03:11,  1.32s/it]"
     ]
    },
    {
     "name": "stdout",
     "output_type": "stream",
     "text": [
      "Starting Epoch: 4\n"
     ]
    },
    {
     "name": "stderr",
     "output_type": "stream",
     "text": [
      "\n",
      "L1: 0.03179426823011798, Sync: 0.0, Percep: 0.7001391245615505 | Fake: 0.6897339982314101, Real: 0.6953619473608615: : 539it [12:07,  1.29s/it]"
     ]
    },
    {
     "name": "stdout",
     "output_type": "stream",
     "text": [
      "Saved checkpoint: /kaggle/working/wav2lip_checkpoints/checkpoint_step000012000.pth\n",
      "Saved checkpoint: /kaggle/working/wav2lip_checkpoints/disc_checkpoint_step000012000.pth\n",
      "Evaluating for 300 steps\n"
     ]
    },
    {
     "name": "stderr",
     "output_type": "stream",
     "text": [
      "L1: 0.03178744904558967, Sync: 0.0, Percep: 0.7001926060076114 | Fake: 0.6896766474953404, Real: 0.6954020820834018: : 540it [12:58, 16.37s/it]"
     ]
    },
    {
     "name": "stdout",
     "output_type": "stream",
     "text": [
      "L1: 0.0268396848867483, Sync: 0.6645076638635468, Percep: 0.7485925362390631 | Fake: 0.6411540850120432, Real: 0.7362593973384184\n"
     ]
    },
    {
     "name": "stderr",
     "output_type": "stream",
     "text": [
      "L1: 0.0327194768181282, Sync: 0.16193598365284387, Percep: 0.6984948469290142 | Fake: 0.6914800586292673, Real: 0.6937821723091665: : 2865it [1:04:43,  1.36s/it]\n"
     ]
    }
   ],
   "source": [
    "checkpoint_dir = \"/kaggle/working/wav2lip_checkpoints\"  #checkpoint 存储的位置\n",
    "\n",
    "# Dataset and Dataloader setup\n",
    "train_dataset = Dataset('train')\n",
    "test_dataset = Dataset('val')\n",
    "\n",
    "train_data_loader = data_utils.DataLoader(\n",
    "    train_dataset, batch_size=hparams.batch_size, shuffle=True,\n",
    "    num_workers=hparams.num_workers)\n",
    "\n",
    "test_data_loader = data_utils.DataLoader(\n",
    "    test_dataset, batch_size=hparams.batch_size,\n",
    "    num_workers=4)\n",
    "device = torch.device(\"cuda\" if use_cuda else \"cpu\")\n",
    "\n",
    " # Model\n",
    "model = Wav2Lip().to(device)####### 生成器模型\n",
    "disc = Wav2Lip_disc_qual().to(device)####### 判别器模型\n",
    "\n",
    "print('total trainable params {}'.format(sum(p.numel() for p in model.parameters() if p.requires_grad)))\n",
    "print('total DISC trainable params {}'.format(sum(p.numel() for p in disc.parameters() if p.requires_grad)))\n",
    "\n",
    "optimizer = optim.Adam([p for p in model.parameters() if p.requires_grad],\n",
    "                       lr=hparams.initial_learning_rate,\n",
    "                       betas=(0.5, 0.999))#####adam优化器，betas=[0.5,0.999]\n",
    "disc_optimizer = optim.Adam([p for p in disc.parameters() if p.requires_grad],\n",
    "                            lr=hparams.disc_initial_learning_rate,\n",
    "                            betas=(0.5, 0.999))#####adam优化器，betas=[0.5,0.999]\n",
    "\n",
    "#继续训练的生成器的checkpoint位置\n",
    "# checkpoint_path=\"\"\n",
    "# load_checkpoint(checkpoint_path, model, optimizer, reset_optimizer=False)\n",
    "#继续训练的判别器的checkpoint位置\n",
    "# disc_checkpoint_path=\"\"\n",
    "# load_checkpoint(disc_checkpoint_path, disc, disc_optimizer, \n",
    "#                             reset_optimizer=False, overwrite_global_states=False)\n",
    "\n",
    "# syncnet的checkpoint位置，我们将使用此模型计算生成的帧和语音的唇音同步损失\n",
    "syncnet_checkpoint_path = latest_checkpoint_path\n",
    "# syncnet_checkpoint_path=\"/kaggle/working/expert_checkpoints/checkpoint_step000000001.pth\"\n",
    "load_checkpoint(syncnet_checkpoint_path, syncnet, None, reset_optimizer=True,\n",
    "                            overwrite_global_states=False)\n",
    "\n",
    "if not os.path.exists(checkpoint_dir):\n",
    "    os.mkdir(checkpoint_dir)\n",
    "\n",
    "# Train!\n",
    "train(device, model, disc, train_data_loader, test_data_loader, optimizer, disc_optimizer,\n",
    "          checkpoint_dir=checkpoint_dir,\n",
    "          checkpoint_interval=hparams.checkpoint_interval,\n",
    "          nepochs=5)"
   ]
  },
  {
   "cell_type": "markdown",
   "id": "69e6ebce",
   "metadata": {
    "papermill": {
     "duration": 23.803383,
     "end_time": "2021-08-02T23:20:31.249791",
     "exception": false,
     "start_time": "2021-08-02T23:20:07.446408",
     "status": "completed"
    },
    "tags": []
   },
   "source": [
    "#### 4. 命令行训练\n",
    "上面是按步骤训练的过程，在`hq_wav2lip_train.py`文件中已经把上述的过程进行了封装，你可以通过以下的命令直接进行训练"
   ]
  },
  {
   "cell_type": "code",
   "execution_count": 22,
   "id": "7d7471b4",
   "metadata": {
    "execution": {
     "iopub.execute_input": "2021-08-02T23:21:18.612627Z",
     "iopub.status.busy": "2021-08-02T23:21:18.611852Z",
     "iopub.status.idle": "2021-08-02T23:21:18.615898Z",
     "shell.execute_reply": "2021-08-02T23:21:18.615322Z"
    },
    "papermill": {
     "duration": 23.637103,
     "end_time": "2021-08-02T23:21:18.616061",
     "exception": false,
     "start_time": "2021-08-02T23:20:54.978958",
     "status": "completed"
    },
    "tags": []
   },
   "outputs": [],
   "source": [
    "# !python wav2lip_train.py --data_root lrs2_preprocessed/ --checkpoint_dir <folder_to_save_checkpoints> --syncnet_checkpoint_path <path_to_expert_disc_checkpoint>"
   ]
  },
  {
   "cell_type": "markdown",
   "id": "cf58ad3e",
   "metadata": {
    "papermill": {
     "duration": 23.316935,
     "end_time": "2021-08-02T23:22:05.716586",
     "exception": false,
     "start_time": "2021-08-02T23:21:42.399651",
     "status": "completed"
    },
    "tags": []
   },
   "source": [
    "### 4. 模型的推理\n",
    "当模型训练完毕后，我们只使用生成器的网络模型部分作为我们的推理模型。模型的输入由一段包含人脸的参照视频和一段语音组成。  \n",
    "在这里我们可以直接使用官方提供给我们的预训练模型[weight](https://iiitaphyd-my.sharepoint.com/:u:/g/personal/radrabha_m_research_iiit_ac_in/EdjI7bZlgApMqsVoEUUXpLsBxqXbn5z8VTmoxp55YNDcIA?e=n9ljGW)下载该模型并放入到指定文件夹下，供之后的推理使用。  \n",
    "模型的推理过程主要分为以下几个步骤：\n",
    "1. 输入数据的预处理，包含人脸抠图，视频分帧，提取mel-spectrogram特征等操作。\n",
    "2. 利用网络模型生成唇音同步的视频帧。\n",
    "3. 将生成的视频帧准换成视频，并和输入的语音结合，形成最终的输出视频。  \n"
   ]
  },
  {
   "cell_type": "code",
   "execution_count": 23,
   "id": "9b055487",
   "metadata": {
    "execution": {
     "iopub.execute_input": "2021-08-02T23:22:53.596568Z",
     "iopub.status.busy": "2021-08-02T23:22:53.595901Z",
     "iopub.status.idle": "2021-08-02T23:22:53.676894Z",
     "shell.execute_reply": "2021-08-02T23:22:53.676292Z",
     "shell.execute_reply.started": "2021-07-24T13:57:11.710238Z"
    },
    "papermill": {
     "duration": 23.737003,
     "end_time": "2021-08-02T23:22:53.677033",
     "exception": false,
     "start_time": "2021-08-02T23:22:29.940030",
     "status": "completed"
    },
    "tags": []
   },
   "outputs": [],
   "source": [
    "from os import listdir, path\n",
    "import numpy as np\n",
    "import scipy, cv2, os, sys, argparse, audio\n",
    "import json, subprocess, random, string\n",
    "from tqdm import tqdm\n",
    "from glob import glob\n",
    "import torch, face_detection\n",
    "from models import Wav2Lip\n",
    "import platform\n",
    "import audio"
   ]
  },
  {
   "cell_type": "code",
   "execution_count": 24,
   "id": "666c6ad3",
   "metadata": {
    "execution": {
     "iopub.execute_input": "2021-08-02T23:23:40.705556Z",
     "iopub.status.busy": "2021-08-02T23:23:40.704379Z",
     "iopub.status.idle": "2021-08-02T23:23:40.708302Z",
     "shell.execute_reply": "2021-08-02T23:23:40.707752Z",
     "shell.execute_reply.started": "2021-07-24T13:59:02.638662Z"
    },
    "papermill": {
     "duration": 24.033897,
     "end_time": "2021-08-02T23:23:40.708477",
     "exception": false,
     "start_time": "2021-08-02T23:23:16.674580",
     "status": "completed"
    },
    "tags": []
   },
   "outputs": [],
   "source": [
    "checkpoint_path=\"/kaggle/working/wav2lip_checkpoints/checkpoint_step000000001.pth\"#生成器的checkpoint位置\n",
    "checkpoint_path = latest_wav2lip_checkpoint\n",
    "face=\"input_video.mp4\" #参照视频的文件位置, *.mp4\n",
    "speech=\"input_audio.wav\"#输入语音的位置，*.wav\n",
    "resize_factor=1 #对输入的视频进行下采样的倍率\n",
    "crop=[0,-1,0,-1] #是否对视频帧进行裁剪,处理视频中有多张人脸时有用\n",
    "fps=25#视频的帧率\n",
    "static=False #是否只使用固定的一帧作为视频的生成参照"
   ]
  },
  {
   "cell_type": "code",
   "execution_count": 25,
   "id": "17f5e06f",
   "metadata": {
    "execution": {
     "iopub.execute_input": "2021-08-02T23:24:27.735293Z",
     "iopub.status.busy": "2021-08-02T23:24:27.734707Z",
     "iopub.status.idle": "2021-08-02T23:24:28.342689Z",
     "shell.execute_reply": "2021-08-02T23:24:28.342124Z",
     "shell.execute_reply.started": "2021-07-24T13:59:14.496913Z"
    },
    "papermill": {
     "duration": 24.049737,
     "end_time": "2021-08-02T23:24:28.342843",
     "exception": false,
     "start_time": "2021-08-02T23:24:04.293106",
     "status": "completed"
    },
    "tags": []
   },
   "outputs": [
    {
     "name": "stdout",
     "output_type": "stream",
     "text": [
      "Reading video frames...\n",
      "Number of frames available for inference: 210\n"
     ]
    }
   ],
   "source": [
    "if not os.path.isfile(face):\n",
    "    raise ValueError('--face argument must be a valid path to video/image file')\n",
    "\n",
    "\n",
    "else:# 若输入的是视频格式\n",
    "    video_stream = cv2.VideoCapture(face)# 读取视频\n",
    "    fps = video_stream.get(cv2.CAP_PROP_FPS)# 读取 fps\n",
    "\n",
    "    print('Reading video frames...')\n",
    "\n",
    "    full_frames = []\n",
    "    #提取所有的帧\n",
    "    while 1:\n",
    "        still_reading, frame = video_stream.read()\n",
    "        if not still_reading:\n",
    "            video_stream.release()\n",
    "            break\n",
    "        if resize_factor > 1: # 进行下采样，降低分辨率\n",
    "            frame = cv2.resize(frame, (frame.shape[1]//resize_factor, frame.shape[0]//resize_factor))\n",
    "\n",
    "        \n",
    "\n",
    "        y1, y2, x1, x2 =crop  # 裁剪\n",
    "        if x2 == -1: x2 = frame.shape[1]\n",
    "        if y2 == -1: y2 = frame.shape[0]\n",
    "\n",
    "        frame = frame[y1:y2, x1:x2]\n",
    "\n",
    "        full_frames.append(frame)\n",
    "\n",
    "print (\"Number of frames available for inference: \"+str(len(full_frames)))"
   ]
  },
  {
   "cell_type": "code",
   "execution_count": 26,
   "id": "9d9a7b4e",
   "metadata": {
    "execution": {
     "iopub.execute_input": "2021-08-02T23:25:16.117664Z",
     "iopub.status.busy": "2021-08-02T23:25:16.116930Z",
     "iopub.status.idle": "2021-08-02T23:25:18.311151Z",
     "shell.execute_reply": "2021-08-02T23:25:18.310142Z",
     "shell.execute_reply.started": "2021-07-24T13:59:29.319841Z"
    },
    "papermill": {
     "duration": 26.461325,
     "end_time": "2021-08-02T23:25:18.311428",
     "exception": false,
     "start_time": "2021-08-02T23:24:51.850103",
     "status": "completed"
    },
    "tags": []
   },
   "outputs": [
    {
     "name": "stdout",
     "output_type": "stream",
     "text": [
      "(80, 353)\n"
     ]
    }
   ],
   "source": [
    "#检查输入的音频是否为 .wav格式的，若不是则进行转换\n",
    "if not speech.endswith('.wav'):\n",
    "    print('Extracting raw audio...')\n",
    "    command = 'ffmpeg -y -i {} -strict -2 {}'.format(speech, 'temp/temp.wav')\n",
    "\n",
    "    subprocess.call(command, shell=True)\n",
    "    speech = 'temp/temp.wav'\n",
    "\n",
    "wav = audio.load_wav(speech, 16000)#保证采样率为16000\n",
    "mel = audio.melspectrogram(wav)\n",
    "print(mel.shape)\n"
   ]
  },
  {
   "cell_type": "code",
   "execution_count": 27,
   "id": "77c8e9cf",
   "metadata": {
    "execution": {
     "iopub.execute_input": "2021-08-02T23:26:05.517273Z",
     "iopub.status.busy": "2021-08-02T23:26:05.514879Z",
     "iopub.status.idle": "2021-08-02T23:26:05.520158Z",
     "shell.execute_reply": "2021-08-02T23:26:05.519493Z",
     "shell.execute_reply.started": "2021-07-24T13:59:40.598345Z"
    },
    "papermill": {
     "duration": 23.411431,
     "end_time": "2021-08-02T23:26:05.520312",
     "exception": false,
     "start_time": "2021-08-02T23:25:42.108881",
     "status": "completed"
    },
    "tags": []
   },
   "outputs": [
    {
     "name": "stdout",
     "output_type": "stream",
     "text": [
      "Length of mel chunks: 128\n"
     ]
    }
   ],
   "source": [
    "wav2lip_batch_size=128 #推理时输入到网络的batchsize\n",
    "mel_step_size=16\n",
    "\n",
    "#提取语音的mel谱\n",
    "mel_chunks = []\n",
    "mel_idx_multiplier = 80./fps \n",
    "i = 0\n",
    "while 1:\n",
    "    start_idx = int(i * mel_idx_multiplier)\n",
    "    if start_idx + mel_step_size > len(mel[0]):\n",
    "        mel_chunks.append(mel[:, len(mel[0]) - mel_step_size:])\n",
    "        break\n",
    "    mel_chunks.append(mel[:, start_idx : start_idx + mel_step_size])\n",
    "    i += 1\n",
    "\n",
    "print(\"Length of mel chunks: {}\".format(len(mel_chunks)))\n",
    "\n",
    "full_frames = full_frames[:len(mel_chunks)]\n",
    "\n",
    "batch_size = wav2lip_batch_size"
   ]
  },
  {
   "cell_type": "code",
   "execution_count": 28,
   "id": "a0830499",
   "metadata": {
    "execution": {
     "iopub.execute_input": "2021-08-02T23:26:53.275172Z",
     "iopub.status.busy": "2021-08-02T23:26:53.273947Z",
     "iopub.status.idle": "2021-08-02T23:26:53.344058Z",
     "shell.execute_reply": "2021-08-02T23:26:53.345519Z",
     "shell.execute_reply.started": "2021-07-24T13:59:59.813928Z"
    },
    "papermill": {
     "duration": 24.221438,
     "end_time": "2021-08-02T23:26:53.345771",
     "exception": false,
     "start_time": "2021-08-02T23:26:29.124333",
     "status": "completed"
    },
    "tags": []
   },
   "outputs": [
    {
     "name": "stdout",
     "output_type": "stream",
     "text": [
      "Using cuda for inference.\n"
     ]
    }
   ],
   "source": [
    "img_size = 96 #默认的输入图片大小\n",
    "pads=[0,20,0,0] # 填充的长度，保证下巴也在抠图的范围之内\n",
    "nosmooth=False\n",
    "face_det_batch_size=16\n",
    "\n",
    "def get_smoothened_boxes(boxes, T):\n",
    "    for i in range(len(boxes)):\n",
    "        if i + T > len(boxes):\n",
    "            window = boxes[len(boxes) - T:]\n",
    "        else:\n",
    "            window = boxes[i : i + T]\n",
    "        boxes[i] = np.mean(window, axis=0)\n",
    "    return boxes\n",
    "\n",
    "#人脸检测函数\n",
    "def face_detect(images):\n",
    "    detector = face_detection.FaceAlignment(face_detection.LandmarksType._2D, \n",
    "                                            flip_input=False, device=device)\n",
    "\n",
    "    batch_size = face_det_batch_size\n",
    "\n",
    "    while 1:\n",
    "        predictions = []\n",
    "        try:\n",
    "            for i in tqdm(range(0, len(images), batch_size)):\n",
    "                predictions.extend(detector.get_detections_for_batch(np.array(images[i:i + batch_size])))\n",
    "        except RuntimeError:\n",
    "            if batch_size == 1: \n",
    "                raise RuntimeError('Image too big to run face detection on GPU. Please use the --resize_factor argument')\n",
    "            batch_size //= 2\n",
    "            print('Recovering from OOM error; New batch size: {}'.format(batch_size))\n",
    "            continue\n",
    "        break\n",
    "\n",
    "    results = []\n",
    "    pady1, pady2, padx1, padx2 = pads\n",
    "    for rect, image in zip(predictions, images):\n",
    "        if rect is None:\n",
    "            cv2.imwrite('temp/faulty_frame.jpg', image) # check this frame where the face was not detected.\n",
    "            raise ValueError('Face not detected! Ensure the video contains a face in all the frames.')\n",
    "\n",
    "        y1 = max(0, rect[1] - pady1)\n",
    "        y2 = min(image.shape[0], rect[3] + pady2)\n",
    "        x1 = max(0, rect[0] - padx1)\n",
    "        x2 = min(image.shape[1], rect[2] + padx2)\n",
    "\n",
    "        results.append([x1, y1, x2, y2])\n",
    "\n",
    "    boxes = np.array(results)\n",
    "    if not nosmooth: boxes = get_smoothened_boxes(boxes, T=5)\n",
    "    results = [[image[y1: y2, x1:x2], (y1, y2, x1, x2)] for image, (x1, y1, x2, y2) in zip(images, boxes)]\n",
    "\n",
    "    del detector\n",
    "    return results \n",
    "\n",
    "box=[-1,-1,-1,-1]\n",
    "\n",
    "def datagen(frames, mels):\n",
    "    img_batch, mel_batch, frame_batch, coords_batch = [], [], [], []\n",
    "\n",
    "    if box[0] == -1:# 如果未指定 特定的人脸边界的话\n",
    "        if not static:# 是否使用视频的第一帧作为参考\n",
    "            face_det_results = face_detect(frames) # BGR2RGB for CNN face detection\n",
    "        else:\n",
    "            face_det_results = face_detect([frames[0]])\n",
    "    else:\n",
    "        print('Using the specified bounding box instead of face detection...')\n",
    "        y1, y2, x1, x2 = box\n",
    "        face_det_results = [[f[y1: y2, x1:x2], (y1, y2, x1, x2)] for f in frames] # 裁剪出人脸结果\n",
    "\n",
    "    for i, m in enumerate(mels):\n",
    "        idx = 0 if static else i%len(frames)\n",
    "        frame_to_save = frames[idx].copy()\n",
    "        face, coords = face_det_results[idx].copy()\n",
    "\n",
    "        face = cv2.resize(face, (img_size, img_size)) # 重采样到指定大小\n",
    "\n",
    "        img_batch.append(face)\n",
    "        mel_batch.append(m)\n",
    "        frame_batch.append(frame_to_save)\n",
    "        coords_batch.append(coords)\n",
    "\n",
    "        if len(img_batch) >= wav2lip_batch_size:\n",
    "            img_batch, mel_batch = np.asarray(img_batch), np.asarray(mel_batch)\n",
    "\n",
    "            img_masked = img_batch.copy()\n",
    "            img_masked[:, img_size//2:] = 0\n",
    "\n",
    "            img_batch = np.concatenate((img_masked, img_batch), axis=3) / 255.\n",
    "            mel_batch = np.reshape(mel_batch, [len(mel_batch), mel_batch.shape[1], mel_batch.shape[2], 1])\n",
    "\n",
    "            yield img_batch, mel_batch, frame_batch, coords_batch\n",
    "            img_batch, mel_batch, frame_batch, coords_batch = [], [], [], []\n",
    "\n",
    "    if len(img_batch) > 0:\n",
    "        img_batch, mel_batch = np.asarray(img_batch), np.asarray(mel_batch)\n",
    "\n",
    "        img_masked = img_batch.copy()\n",
    "        img_masked[:, img_size//2:] = 0\n",
    "\n",
    "        img_batch = np.concatenate((img_masked, img_batch), axis=3) / 255.\n",
    "        mel_batch = np.reshape(mel_batch, [len(mel_batch), mel_batch.shape[1], mel_batch.shape[2], 1])\n",
    "\n",
    "        yield img_batch, mel_batch, frame_batch, coords_batch\n",
    "\n",
    "mel_step_size = 16 \n",
    "device = 'cuda' if torch.cuda.is_available() else 'cpu'\n",
    "print('Using {} for inference.'.format(device))\n",
    "\n",
    "\n",
    "#加载模型\n",
    "def _load(checkpoint_path):\n",
    "    if device == 'cuda':\n",
    "        checkpoint = torch.load(checkpoint_path)\n",
    "    else:\n",
    "        checkpoint = torch.load(checkpoint_path,\n",
    "                                map_location=lambda storage, loc: storage)\n",
    "    return checkpoint\n",
    "\n",
    "def load_model(path):\n",
    "    model = Wav2Lip()\n",
    "    print(\"Load checkpoint from: {}\".format(path))\n",
    "    checkpoint = _load(path)\n",
    "    s = checkpoint[\"state_dict\"]\n",
    "    new_s = {}\n",
    "    for k, v in s.items():\n",
    "        new_s[k.replace('module.', '')] = v\n",
    "    model.load_state_dict(new_s)\n",
    "\n",
    "    model = model.to(device)\n",
    "    return model.eval()"
   ]
  },
  {
   "cell_type": "code",
   "execution_count": 29,
   "id": "2fa28804",
   "metadata": {
    "execution": {
     "iopub.execute_input": "2021-08-02T23:27:40.890522Z",
     "iopub.status.busy": "2021-08-02T23:27:40.888088Z",
     "iopub.status.idle": "2021-08-02T23:27:40.891429Z",
     "shell.execute_reply": "2021-08-02T23:27:40.891984Z"
    },
    "papermill": {
     "duration": 23.580961,
     "end_time": "2021-08-02T23:27:40.892142",
     "exception": false,
     "start_time": "2021-08-02T23:27:17.311181",
     "status": "completed"
    },
    "tags": []
   },
   "outputs": [],
   "source": [
    "os.mkdir('/kaggle/working/temp/')"
   ]
  },
  {
   "cell_type": "code",
   "execution_count": 30,
   "id": "57515b37",
   "metadata": {
    "execution": {
     "iopub.execute_input": "2021-08-02T23:28:28.923711Z",
     "iopub.status.busy": "2021-08-02T23:28:28.922966Z",
     "iopub.status.idle": "2021-08-02T23:28:47.888802Z",
     "shell.execute_reply": "2021-08-02T23:28:47.888202Z",
     "shell.execute_reply.started": "2021-07-24T14:00:13.510341Z"
    },
    "papermill": {
     "duration": 43.37012,
     "end_time": "2021-08-02T23:28:47.888949",
     "exception": false,
     "start_time": "2021-08-02T23:28:04.518829",
     "status": "completed"
    },
    "tags": []
   },
   "outputs": [
    {
     "name": "stderr",
     "output_type": "stream",
     "text": [
      "  0%|          | 0/1 [00:00<?, ?it/s]\n",
      "  0%|          | 0/8 [00:00<?, ?it/s]\u001b[A\n",
      " 12%|█▎        | 1/8 [00:04<00:28,  4.08s/it]\u001b[A\n",
      " 25%|██▌       | 2/8 [00:05<00:15,  2.54s/it]\u001b[A\n",
      " 38%|███▊      | 3/8 [00:06<00:10,  2.03s/it]\u001b[A\n",
      " 50%|█████     | 4/8 [00:08<00:07,  1.80s/it]\u001b[A\n",
      " 62%|██████▎   | 5/8 [00:09<00:05,  1.68s/it]\u001b[A\n",
      " 75%|███████▌  | 6/8 [00:11<00:03,  1.60s/it]\u001b[A\n",
      " 88%|████████▊ | 7/8 [00:12<00:01,  1.59s/it]\u001b[A\n",
      "100%|██████████| 8/8 [00:14<00:00,  1.79s/it]\n"
     ]
    },
    {
     "name": "stdout",
     "output_type": "stream",
     "text": [
      "Load checkpoint from: /kaggle/working/wav2lip_checkpoints/checkpoint_step000012000.pth\n",
      "Model loaded\n"
     ]
    },
    {
     "name": "stderr",
     "output_type": "stream",
     "text": [
      "100%|██████████| 1/1 [00:18<00:00, 18.96s/it]\n"
     ]
    }
   ],
   "source": [
    "full_frames = full_frames[:len(mel_chunks)]\n",
    "\n",
    "batch_size = wav2lip_batch_size\n",
    "gen = datagen(full_frames.copy(), mel_chunks)  # 进行人脸的裁剪与拼接，6通道\n",
    "\n",
    "for i, (img_batch, mel_batch, frames, coords) in enumerate(tqdm(gen, \n",
    "                                        total=int(np.ceil(float(len(mel_chunks))/batch_size)))):\n",
    "    #加载模型\n",
    "    if i == 0:\n",
    "        model = load_model(checkpoint_path)\n",
    "        print (\"Model loaded\")\n",
    "\n",
    "        frame_h, frame_w = full_frames[0].shape[:-1]\n",
    "        #暂存临时视频\n",
    "        out = cv2.VideoWriter('/kaggle/working/temp/result_without_audio.mp4',\n",
    "                                cv2.VideoWriter_fourcc(*'DIVX'), fps, (frame_w, frame_h))\n",
    "\n",
    "    img_batch = torch.FloatTensor(np.transpose(img_batch, (0, 3, 1, 2))).to(device)\n",
    "    mel_batch = torch.FloatTensor(np.transpose(mel_batch, (0, 3, 1, 2))).to(device)\n",
    "    \n",
    "    \n",
    "    ##### 将 img_batch, mel_batch送入模型得到pred\n",
    "    ##############TODO##############\n",
    "    with torch.no_grad():\n",
    "        pred = model(mel_batch, img_batch)\n",
    "    \n",
    "    pred = pred.cpu().numpy().transpose(0, 2, 3, 1) * 255.\n",
    "\n",
    "    for p, f, c in zip(pred, frames, coords):\n",
    "        y1, y2, x1, x2 = c\n",
    "        p = cv2.resize(p.astype(np.uint8), (x2 - x1, y2 - y1))\n",
    "\n",
    "        f[y1:y2, x1:x2] = p\n",
    "        out.write(f)\n",
    "\n",
    "out.release()\n"
   ]
  },
  {
   "cell_type": "code",
   "execution_count": 31,
   "id": "261125e1",
   "metadata": {
    "execution": {
     "iopub.execute_input": "2021-08-02T23:29:35.382084Z",
     "iopub.status.busy": "2021-08-02T23:29:35.381188Z",
     "iopub.status.idle": "2021-08-02T23:29:35.385242Z",
     "shell.execute_reply": "2021-08-02T23:29:35.384706Z"
    },
    "papermill": {
     "duration": 23.669641,
     "end_time": "2021-08-02T23:29:35.385406",
     "exception": false,
     "start_time": "2021-08-02T23:29:11.715765",
     "status": "completed"
    },
    "tags": []
   },
   "outputs": [],
   "source": [
    "os.mkdir('/kaggle/working/result/')"
   ]
  },
  {
   "cell_type": "code",
   "execution_count": 32,
   "id": "9505c790",
   "metadata": {
    "execution": {
     "iopub.execute_input": "2021-08-02T23:30:22.884289Z",
     "iopub.status.busy": "2021-08-02T23:30:22.883588Z",
     "iopub.status.idle": "2021-08-02T23:30:25.914186Z",
     "shell.execute_reply": "2021-08-02T23:30:25.913649Z",
     "shell.execute_reply.started": "2021-07-24T14:01:22.990563Z"
    },
    "papermill": {
     "duration": 27.19117,
     "end_time": "2021-08-02T23:30:25.914323",
     "exception": false,
     "start_time": "2021-08-02T23:29:58.723153",
     "status": "completed"
    },
    "tags": []
   },
   "outputs": [
    {
     "data": {
      "text/plain": [
       "0"
      ]
     },
     "execution_count": 32,
     "metadata": {},
     "output_type": "execute_result"
    }
   ],
   "source": [
    "#将生成的视频与语音合并\n",
    "outfile=\"/kaggle/working/result/result.mp4\"# 最终输出结果到该文件夹下\n",
    "command = 'ffmpeg -y -i {} -i {} -strict -2 -q:v 1 {}'.format(speech, '/kaggle/working/temp/result_without_audio.mp4',outfile)\n",
    "subprocess.call(command, shell=platform.system() != 'Windows')"
   ]
  }
 ],
 "metadata": {
  "kernelspec": {
   "display_name": "conda_pytorch_p310",
   "language": "python",
   "name": "conda_pytorch_p310"
  },
  "language_info": {
   "codemirror_mode": {
    "name": "ipython",
    "version": 3
   },
   "file_extension": ".py",
   "mimetype": "text/x-python",
   "name": "python",
   "nbconvert_exporter": "python",
   "pygments_lexer": "ipython3",
   "version": "3.10.10"
  },
  "papermill": {
   "default_parameters": {},
   "duration": 30478.041156,
   "end_time": "2021-08-02T23:30:53.753624",
   "environment_variables": {},
   "exception": null,
   "input_path": "__notebook__.ipynb",
   "output_path": "__notebook__.ipynb",
   "parameters": {},
   "start_time": "2021-08-02T15:02:55.712468",
   "version": "2.3.3"
  }
 },
 "nbformat": 4,
 "nbformat_minor": 5
}
